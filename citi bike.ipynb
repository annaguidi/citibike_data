{
 "cells": [
  {
   "cell_type": "code",
   "execution_count": 2,
   "metadata": {},
   "outputs": [],
   "source": [
    "import csv"
   ]
  },
  {
   "cell_type": "code",
   "execution_count": 3,
   "metadata": {},
   "outputs": [],
   "source": [
    "import pandas as pd\n",
    "import numpy as np"
   ]
  },
  {
   "cell_type": "code",
   "execution_count": 4,
   "metadata": {},
   "outputs": [],
   "source": [
    "import matplotlib.pyplot as plt\n",
    "from pandas import *\n",
    "import seaborn as sns\n",
    "from matplotlib import rcParams\n",
    "import datetime as dt"
   ]
  },
  {
   "cell_type": "code",
   "execution_count": 5,
   "metadata": {},
   "outputs": [],
   "source": [
    "import os\n",
    "import glob"
   ]
  },
  {
   "cell_type": "code",
   "execution_count": 6,
   "metadata": {},
   "outputs": [],
   "source": [
    "# !curl -O \"https://s3.amazonaws.com/tripdata/2017[01-12]-citibike-tripdata.csv.zip\"\n"
   ]
  },
  {
   "cell_type": "code",
   "execution_count": 7,
   "metadata": {},
   "outputs": [],
   "source": [
    "# !unzip '*.zip'\n",
    "# !rm *.zip"
   ]
  },
  {
   "cell_type": "code",
   "execution_count": 8,
   "metadata": {},
   "outputs": [],
   "source": [
    "# path = 'C:/Users/a.guidi/Desktop/side_project'\n",
    "# extension = 'csv'\n",
    "# os.chdir(path)\n",
    "# result = glob.glob('*_test.{}'.format(extension))\n",
    "# print(result)"
   ]
  },
  {
   "cell_type": "code",
   "execution_count": 9,
   "metadata": {},
   "outputs": [],
   "source": [
    "# bike_data = concat([read_csv(f, header=None,low_memory=False) for f in result], keys=files)"
   ]
  },
  {
   "cell_type": "code",
   "execution_count": 10,
   "metadata": {},
   "outputs": [],
   "source": [
    "# bike_data.describe()"
   ]
  },
  {
   "cell_type": "code",
   "execution_count": 11,
   "metadata": {},
   "outputs": [],
   "source": [
    "# bike_data.dtypes"
   ]
  },
  {
   "cell_type": "code",
   "execution_count": 12,
   "metadata": {},
   "outputs": [],
   "source": [
    "# df2 = pd.read_csv('C:/Users/a.guidi/Desktop/side_project/201701-citibike-tripdata_test.csv')"
   ]
  },
  {
   "cell_type": "code",
   "execution_count": 13,
   "metadata": {},
   "outputs": [],
   "source": [
    "# df2.head(5)"
   ]
  },
  {
   "cell_type": "code",
   "execution_count": 14,
   "metadata": {},
   "outputs": [],
   "source": [
    "# bike_data.columns = df2.columns"
   ]
  },
  {
   "cell_type": "code",
   "execution_count": 15,
   "metadata": {},
   "outputs": [],
   "source": [
    "# df.describe()\n",
    "# #df.describe(include = all)\n",
    "# #df.dtypes\n",
    "# ##Scrappy way to get column names in the header.\n",
    "# #df2 = pd.read_csv('jan.csv')\n",
    "# #df.columns = df2.columns\n",
    "# #del[df2]\n",
    "\n",
    "\n",
    "# #df = df[df[1] != 'starttime']#Could've just dropped duplicate rows here as well\n",
    "# #df = df[df[1] != 'Start Time']\n",
    "# #Saved csv to avoid running code above multiple times in the future\n",
    "# #df.to_csv('2017.csv')"
   ]
  },
  {
   "cell_type": "code",
   "execution_count": 16,
   "metadata": {},
   "outputs": [],
   "source": [
    "# bike_data.shape"
   ]
  },
  {
   "cell_type": "code",
   "execution_count": 17,
   "metadata": {},
   "outputs": [],
   "source": [
    "# bike_data = bike_data.drop_duplicates()"
   ]
  },
  {
   "cell_type": "code",
   "execution_count": 18,
   "metadata": {},
   "outputs": [],
   "source": [
    "# bike_data.shape"
   ]
  },
  {
   "cell_type": "code",
   "execution_count": 19,
   "metadata": {},
   "outputs": [],
   "source": [
    "# bike_data.head(2)"
   ]
  },
  {
   "cell_type": "code",
   "execution_count": 20,
   "metadata": {},
   "outputs": [],
   "source": [
    "# bike_data = bike_data.drop(bike_data.index[0])"
   ]
  },
  {
   "cell_type": "code",
   "execution_count": 21,
   "metadata": {},
   "outputs": [],
   "source": [
    "# bike_data.shape"
   ]
  },
  {
   "cell_type": "code",
   "execution_count": 22,
   "metadata": {},
   "outputs": [],
   "source": [
    "# bike_data.to_csv('2017.csv')"
   ]
  },
  {
   "cell_type": "code",
   "execution_count": 24,
   "metadata": {},
   "outputs": [],
   "source": [
    "df = read_csv('C:/Users/a.guidi/Desktop/side_project/2017.csv', low_memory=False)"
   ]
  },
  {
   "cell_type": "code",
   "execution_count": 25,
   "metadata": {},
   "outputs": [
    {
     "data": {
      "text/html": [
       "<div>\n",
       "<style scoped>\n",
       "    .dataframe tbody tr th:only-of-type {\n",
       "        vertical-align: middle;\n",
       "    }\n",
       "\n",
       "    .dataframe tbody tr th {\n",
       "        vertical-align: top;\n",
       "    }\n",
       "\n",
       "    .dataframe thead th {\n",
       "        text-align: right;\n",
       "    }\n",
       "</style>\n",
       "<table border=\"1\" class=\"dataframe\">\n",
       "  <thead>\n",
       "    <tr style=\"text-align: right;\">\n",
       "      <th></th>\n",
       "      <th>Unnamed: 0</th>\n",
       "      <th>Unnamed: 1</th>\n",
       "      <th>Trip Duration</th>\n",
       "      <th>Start Time</th>\n",
       "      <th>Stop Time</th>\n",
       "      <th>Start Station ID</th>\n",
       "      <th>Start Station Name</th>\n",
       "      <th>Start Station Latitude</th>\n",
       "      <th>Start Station Longitude</th>\n",
       "      <th>End Station ID</th>\n",
       "      <th>End Station Name</th>\n",
       "      <th>End Station Latitude</th>\n",
       "      <th>End Station Longitude</th>\n",
       "      <th>Bike ID</th>\n",
       "      <th>User Type</th>\n",
       "      <th>Birth Year</th>\n",
       "      <th>Gender</th>\n",
       "    </tr>\n",
       "  </thead>\n",
       "  <tbody>\n",
       "    <tr>\n",
       "      <th>0</th>\n",
       "      <td>'ls' is not recognized as an internal or exter...</td>\n",
       "      <td>1</td>\n",
       "      <td>680</td>\n",
       "      <td>2017-01-01 00:00:21</td>\n",
       "      <td>2017-01-01 00:11:41</td>\n",
       "      <td>3226</td>\n",
       "      <td>W 82 St &amp; Central Park West</td>\n",
       "      <td>40.782750</td>\n",
       "      <td>-73.971370</td>\n",
       "      <td>3165</td>\n",
       "      <td>Central Park West &amp; W 72 St</td>\n",
       "      <td>40.775794</td>\n",
       "      <td>-73.976206</td>\n",
       "      <td>25542</td>\n",
       "      <td>Subscriber</td>\n",
       "      <td>1965.0</td>\n",
       "      <td>2</td>\n",
       "    </tr>\n",
       "    <tr>\n",
       "      <th>1</th>\n",
       "      <td>'ls' is not recognized as an internal or exter...</td>\n",
       "      <td>2</td>\n",
       "      <td>1282</td>\n",
       "      <td>2017-01-01 00:00:45</td>\n",
       "      <td>2017-01-01 00:22:08</td>\n",
       "      <td>3263</td>\n",
       "      <td>Cooper Square &amp; E 7 St</td>\n",
       "      <td>40.729236</td>\n",
       "      <td>-73.990868</td>\n",
       "      <td>498</td>\n",
       "      <td>Broadway &amp; W 32 St</td>\n",
       "      <td>40.748549</td>\n",
       "      <td>-73.988084</td>\n",
       "      <td>21136</td>\n",
       "      <td>Subscriber</td>\n",
       "      <td>1987.0</td>\n",
       "      <td>2</td>\n",
       "    </tr>\n",
       "    <tr>\n",
       "      <th>2</th>\n",
       "      <td>'ls' is not recognized as an internal or exter...</td>\n",
       "      <td>3</td>\n",
       "      <td>648</td>\n",
       "      <td>2017-01-01 00:00:57</td>\n",
       "      <td>2017-01-01 00:11:46</td>\n",
       "      <td>3143</td>\n",
       "      <td>5 Ave &amp; E 78 St</td>\n",
       "      <td>40.776829</td>\n",
       "      <td>-73.963888</td>\n",
       "      <td>3152</td>\n",
       "      <td>3 Ave &amp; E 71 St</td>\n",
       "      <td>40.768737</td>\n",
       "      <td>-73.961199</td>\n",
       "      <td>18147</td>\n",
       "      <td>Customer</td>\n",
       "      <td>NaN</td>\n",
       "      <td>0</td>\n",
       "    </tr>\n",
       "    <tr>\n",
       "      <th>3</th>\n",
       "      <td>'ls' is not recognized as an internal or exter...</td>\n",
       "      <td>4</td>\n",
       "      <td>631</td>\n",
       "      <td>2017-01-01 00:01:10</td>\n",
       "      <td>2017-01-01 00:11:42</td>\n",
       "      <td>3143</td>\n",
       "      <td>5 Ave &amp; E 78 St</td>\n",
       "      <td>40.776829</td>\n",
       "      <td>-73.963888</td>\n",
       "      <td>3152</td>\n",
       "      <td>3 Ave &amp; E 71 St</td>\n",
       "      <td>40.768737</td>\n",
       "      <td>-73.961199</td>\n",
       "      <td>21211</td>\n",
       "      <td>Customer</td>\n",
       "      <td>NaN</td>\n",
       "      <td>0</td>\n",
       "    </tr>\n",
       "    <tr>\n",
       "      <th>4</th>\n",
       "      <td>'ls' is not recognized as an internal or exter...</td>\n",
       "      <td>5</td>\n",
       "      <td>621</td>\n",
       "      <td>2017-01-01 00:01:25</td>\n",
       "      <td>2017-01-01 00:11:47</td>\n",
       "      <td>3143</td>\n",
       "      <td>5 Ave &amp; E 78 St</td>\n",
       "      <td>40.776829</td>\n",
       "      <td>-73.963888</td>\n",
       "      <td>3152</td>\n",
       "      <td>3 Ave &amp; E 71 St</td>\n",
       "      <td>40.768737</td>\n",
       "      <td>-73.961199</td>\n",
       "      <td>26819</td>\n",
       "      <td>Customer</td>\n",
       "      <td>NaN</td>\n",
       "      <td>0</td>\n",
       "    </tr>\n",
       "    <tr>\n",
       "      <th>5</th>\n",
       "      <td>'ls' is not recognized as an internal or exter...</td>\n",
       "      <td>6</td>\n",
       "      <td>666</td>\n",
       "      <td>2017-01-01 00:01:51</td>\n",
       "      <td>2017-01-01 00:12:57</td>\n",
       "      <td>3163</td>\n",
       "      <td>Central Park West &amp; W 68 St</td>\n",
       "      <td>40.773407</td>\n",
       "      <td>-73.977825</td>\n",
       "      <td>3163</td>\n",
       "      <td>Central Park West &amp; W 68 St</td>\n",
       "      <td>40.773407</td>\n",
       "      <td>-73.977825</td>\n",
       "      <td>16050</td>\n",
       "      <td>Subscriber</td>\n",
       "      <td>2000.0</td>\n",
       "      <td>1</td>\n",
       "    </tr>\n",
       "    <tr>\n",
       "      <th>6</th>\n",
       "      <td>'ls' is not recognized as an internal or exter...</td>\n",
       "      <td>7</td>\n",
       "      <td>559</td>\n",
       "      <td>2017-01-01 00:05:00</td>\n",
       "      <td>2017-01-01 00:14:20</td>\n",
       "      <td>499</td>\n",
       "      <td>Broadway &amp; W 60 St</td>\n",
       "      <td>40.769155</td>\n",
       "      <td>-73.981918</td>\n",
       "      <td>479</td>\n",
       "      <td>9 Ave &amp; W 45 St</td>\n",
       "      <td>40.760193</td>\n",
       "      <td>-73.991255</td>\n",
       "      <td>27294</td>\n",
       "      <td>Subscriber</td>\n",
       "      <td>1973.0</td>\n",
       "      <td>1</td>\n",
       "    </tr>\n",
       "    <tr>\n",
       "      <th>7</th>\n",
       "      <td>'ls' is not recognized as an internal or exter...</td>\n",
       "      <td>8</td>\n",
       "      <td>826</td>\n",
       "      <td>2017-01-01 00:05:37</td>\n",
       "      <td>2017-01-01 00:19:24</td>\n",
       "      <td>362</td>\n",
       "      <td>Broadway &amp; W 37 St</td>\n",
       "      <td>40.751726</td>\n",
       "      <td>-73.987535</td>\n",
       "      <td>445</td>\n",
       "      <td>E 10 St &amp; Avenue A</td>\n",
       "      <td>40.727408</td>\n",
       "      <td>-73.981420</td>\n",
       "      <td>23288</td>\n",
       "      <td>Subscriber</td>\n",
       "      <td>1977.0</td>\n",
       "      <td>2</td>\n",
       "    </tr>\n",
       "  </tbody>\n",
       "</table>\n",
       "</div>"
      ],
      "text/plain": [
       "                                          Unnamed: 0  Unnamed: 1  \\\n",
       "0  'ls' is not recognized as an internal or exter...           1   \n",
       "1  'ls' is not recognized as an internal or exter...           2   \n",
       "2  'ls' is not recognized as an internal or exter...           3   \n",
       "3  'ls' is not recognized as an internal or exter...           4   \n",
       "4  'ls' is not recognized as an internal or exter...           5   \n",
       "5  'ls' is not recognized as an internal or exter...           6   \n",
       "6  'ls' is not recognized as an internal or exter...           7   \n",
       "7  'ls' is not recognized as an internal or exter...           8   \n",
       "\n",
       "   Trip Duration           Start Time            Stop Time  Start Station ID  \\\n",
       "0            680  2017-01-01 00:00:21  2017-01-01 00:11:41              3226   \n",
       "1           1282  2017-01-01 00:00:45  2017-01-01 00:22:08              3263   \n",
       "2            648  2017-01-01 00:00:57  2017-01-01 00:11:46              3143   \n",
       "3            631  2017-01-01 00:01:10  2017-01-01 00:11:42              3143   \n",
       "4            621  2017-01-01 00:01:25  2017-01-01 00:11:47              3143   \n",
       "5            666  2017-01-01 00:01:51  2017-01-01 00:12:57              3163   \n",
       "6            559  2017-01-01 00:05:00  2017-01-01 00:14:20               499   \n",
       "7            826  2017-01-01 00:05:37  2017-01-01 00:19:24               362   \n",
       "\n",
       "            Start Station Name  Start Station Latitude  \\\n",
       "0  W 82 St & Central Park West               40.782750   \n",
       "1       Cooper Square & E 7 St               40.729236   \n",
       "2              5 Ave & E 78 St               40.776829   \n",
       "3              5 Ave & E 78 St               40.776829   \n",
       "4              5 Ave & E 78 St               40.776829   \n",
       "5  Central Park West & W 68 St               40.773407   \n",
       "6           Broadway & W 60 St               40.769155   \n",
       "7           Broadway & W 37 St               40.751726   \n",
       "\n",
       "   Start Station Longitude  End Station ID             End Station Name  \\\n",
       "0               -73.971370            3165  Central Park West & W 72 St   \n",
       "1               -73.990868             498           Broadway & W 32 St   \n",
       "2               -73.963888            3152              3 Ave & E 71 St   \n",
       "3               -73.963888            3152              3 Ave & E 71 St   \n",
       "4               -73.963888            3152              3 Ave & E 71 St   \n",
       "5               -73.977825            3163  Central Park West & W 68 St   \n",
       "6               -73.981918             479              9 Ave & W 45 St   \n",
       "7               -73.987535             445           E 10 St & Avenue A   \n",
       "\n",
       "   End Station Latitude  End Station Longitude  Bike ID   User Type  \\\n",
       "0             40.775794             -73.976206    25542  Subscriber   \n",
       "1             40.748549             -73.988084    21136  Subscriber   \n",
       "2             40.768737             -73.961199    18147    Customer   \n",
       "3             40.768737             -73.961199    21211    Customer   \n",
       "4             40.768737             -73.961199    26819    Customer   \n",
       "5             40.773407             -73.977825    16050  Subscriber   \n",
       "6             40.760193             -73.991255    27294  Subscriber   \n",
       "7             40.727408             -73.981420    23288  Subscriber   \n",
       "\n",
       "   Birth Year  Gender  \n",
       "0      1965.0       2  \n",
       "1      1987.0       2  \n",
       "2         NaN       0  \n",
       "3         NaN       0  \n",
       "4         NaN       0  \n",
       "5      2000.0       1  \n",
       "6      1973.0       1  \n",
       "7      1977.0       2  "
      ]
     },
     "execution_count": 25,
     "metadata": {},
     "output_type": "execute_result"
    }
   ],
   "source": [
    "df.head(8)"
   ]
  },
  {
   "cell_type": "code",
   "execution_count": 26,
   "metadata": {},
   "outputs": [],
   "source": [
    "df = df.drop(['Unnamed: 0', 'Unnamed: 1'], axis = 1)"
   ]
  },
  {
   "cell_type": "code",
   "execution_count": 27,
   "metadata": {
    "scrolled": true
   },
   "outputs": [
    {
     "data": {
      "text/html": [
       "<div>\n",
       "<style scoped>\n",
       "    .dataframe tbody tr th:only-of-type {\n",
       "        vertical-align: middle;\n",
       "    }\n",
       "\n",
       "    .dataframe tbody tr th {\n",
       "        vertical-align: top;\n",
       "    }\n",
       "\n",
       "    .dataframe thead th {\n",
       "        text-align: right;\n",
       "    }\n",
       "</style>\n",
       "<table border=\"1\" class=\"dataframe\">\n",
       "  <thead>\n",
       "    <tr style=\"text-align: right;\">\n",
       "      <th></th>\n",
       "      <th>Trip Duration</th>\n",
       "      <th>Start Time</th>\n",
       "      <th>Stop Time</th>\n",
       "      <th>Start Station ID</th>\n",
       "      <th>Start Station Name</th>\n",
       "      <th>Start Station Latitude</th>\n",
       "      <th>Start Station Longitude</th>\n",
       "      <th>End Station ID</th>\n",
       "      <th>End Station Name</th>\n",
       "      <th>End Station Latitude</th>\n",
       "      <th>End Station Longitude</th>\n",
       "      <th>Bike ID</th>\n",
       "      <th>User Type</th>\n",
       "      <th>Birth Year</th>\n",
       "      <th>Gender</th>\n",
       "    </tr>\n",
       "  </thead>\n",
       "  <tbody>\n",
       "    <tr>\n",
       "      <th>0</th>\n",
       "      <td>680</td>\n",
       "      <td>2017-01-01 00:00:21</td>\n",
       "      <td>2017-01-01 00:11:41</td>\n",
       "      <td>3226</td>\n",
       "      <td>W 82 St &amp; Central Park West</td>\n",
       "      <td>40.782750</td>\n",
       "      <td>-73.971370</td>\n",
       "      <td>3165</td>\n",
       "      <td>Central Park West &amp; W 72 St</td>\n",
       "      <td>40.775794</td>\n",
       "      <td>-73.976206</td>\n",
       "      <td>25542</td>\n",
       "      <td>Subscriber</td>\n",
       "      <td>1965.0</td>\n",
       "      <td>2</td>\n",
       "    </tr>\n",
       "    <tr>\n",
       "      <th>1</th>\n",
       "      <td>1282</td>\n",
       "      <td>2017-01-01 00:00:45</td>\n",
       "      <td>2017-01-01 00:22:08</td>\n",
       "      <td>3263</td>\n",
       "      <td>Cooper Square &amp; E 7 St</td>\n",
       "      <td>40.729236</td>\n",
       "      <td>-73.990868</td>\n",
       "      <td>498</td>\n",
       "      <td>Broadway &amp; W 32 St</td>\n",
       "      <td>40.748549</td>\n",
       "      <td>-73.988084</td>\n",
       "      <td>21136</td>\n",
       "      <td>Subscriber</td>\n",
       "      <td>1987.0</td>\n",
       "      <td>2</td>\n",
       "    </tr>\n",
       "  </tbody>\n",
       "</table>\n",
       "</div>"
      ],
      "text/plain": [
       "   Trip Duration           Start Time            Stop Time  Start Station ID  \\\n",
       "0            680  2017-01-01 00:00:21  2017-01-01 00:11:41              3226   \n",
       "1           1282  2017-01-01 00:00:45  2017-01-01 00:22:08              3263   \n",
       "\n",
       "            Start Station Name  Start Station Latitude  \\\n",
       "0  W 82 St & Central Park West               40.782750   \n",
       "1       Cooper Square & E 7 St               40.729236   \n",
       "\n",
       "   Start Station Longitude  End Station ID             End Station Name  \\\n",
       "0               -73.971370            3165  Central Park West & W 72 St   \n",
       "1               -73.990868             498           Broadway & W 32 St   \n",
       "\n",
       "   End Station Latitude  End Station Longitude  Bike ID   User Type  \\\n",
       "0             40.775794             -73.976206    25542  Subscriber   \n",
       "1             40.748549             -73.988084    21136  Subscriber   \n",
       "\n",
       "   Birth Year  Gender  \n",
       "0      1965.0       2  \n",
       "1      1987.0       2  "
      ]
     },
     "execution_count": 27,
     "metadata": {},
     "output_type": "execute_result"
    }
   ],
   "source": [
    "df.head(2)"
   ]
  },
  {
   "cell_type": "code",
   "execution_count": 28,
   "metadata": {
    "scrolled": true
   },
   "outputs": [],
   "source": [
    "#!pip install folium"
   ]
  },
  {
   "cell_type": "code",
   "execution_count": 29,
   "metadata": {},
   "outputs": [],
   "source": [
    "import folium"
   ]
  },
  {
   "cell_type": "code",
   "execution_count": 30,
   "metadata": {},
   "outputs": [],
   "source": [
    "starting_lat = df[\"Start Station Latitude\"].mean()"
   ]
  },
  {
   "cell_type": "code",
   "execution_count": 31,
   "metadata": {},
   "outputs": [
    {
     "data": {
      "text/plain": [
       "40.73710187406455"
      ]
     },
     "execution_count": 31,
     "metadata": {},
     "output_type": "execute_result"
    }
   ],
   "source": [
    "starting_lat"
   ]
  },
  {
   "cell_type": "code",
   "execution_count": 32,
   "metadata": {},
   "outputs": [],
   "source": [
    "starting_long = df[\"Start Station Longitude\"].mean()"
   ]
  },
  {
   "cell_type": "code",
   "execution_count": 33,
   "metadata": {},
   "outputs": [
    {
     "data": {
      "text/plain": [
       "-73.98504387121216"
      ]
     },
     "execution_count": 33,
     "metadata": {},
     "output_type": "execute_result"
    }
   ],
   "source": [
    "starting_long"
   ]
  },
  {
   "cell_type": "code",
   "execution_count": 138,
   "metadata": {},
   "outputs": [],
   "source": [
    "manmap = folium.Map(location=(starting_lat,starting_long), zoom_start=12)"
   ]
  },
  {
   "cell_type": "code",
   "execution_count": 139,
   "metadata": {},
   "outputs": [
    {
     "data": {
      "text/html": [
       "<div style=\"width:100%;\"><div style=\"position:relative;width:100%;height:0;padding-bottom:60%;\"><iframe src=\"data:text/html;charset=utf-8;base64,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\" style=\"position:absolute;width:100%;height:100%;left:0;top:0;border:none !important;\" allowfullscreen webkitallowfullscreen mozallowfullscreen></iframe></div></div>"
      ],
      "text/plain": [
       "<folium.folium.Map at 0x273e6183f28>"
      ]
     },
     "execution_count": 139,
     "metadata": {},
     "output_type": "execute_result"
    }
   ],
   "source": [
    "manmap"
   ]
  },
  {
   "cell_type": "code",
   "execution_count": 36,
   "metadata": {},
   "outputs": [],
   "source": [
    "heatmap_df = df.dropna(axis=0, subset=['Start Station Latitude','Start Station Longitude'])"
   ]
  },
  {
   "cell_type": "code",
   "execution_count": 37,
   "metadata": {},
   "outputs": [],
   "source": [
    "heat_data = [[row['Start Station Latitude'],row['Start Station Longitude']] for index, row in heatmap_df.iterrows()]"
   ]
  },
  {
   "cell_type": "code",
   "execution_count": 38,
   "metadata": {},
   "outputs": [],
   "source": [
    "from folium import plugins\n",
    "from folium.plugins import HeatMap"
   ]
  },
  {
   "cell_type": "code",
   "execution_count": 39,
   "metadata": {},
   "outputs": [
    {
     "data": {
      "text/plain": [
       "<folium.plugins.heat_map.HeatMap at 0x273efc0e240>"
      ]
     },
     "execution_count": 39,
     "metadata": {},
     "output_type": "execute_result"
    }
   ],
   "source": [
    "HeatMap(heat_data).add_to(manmap)"
   ]
  },
  {
   "cell_type": "code",
   "execution_count": 40,
   "metadata": {},
   "outputs": [],
   "source": [
    "manmap.save('plot_data.html')"
   ]
  },
  {
   "cell_type": "code",
   "execution_count": 41,
   "metadata": {},
   "outputs": [],
   "source": [
    "from IPython.display import HTML"
   ]
  },
  {
   "cell_type": "code",
   "execution_count": 42,
   "metadata": {},
   "outputs": [
    {
     "data": {
      "text/html": [
       "<div>\n",
       "<style scoped>\n",
       "    .dataframe tbody tr th:only-of-type {\n",
       "        vertical-align: middle;\n",
       "    }\n",
       "\n",
       "    .dataframe tbody tr th {\n",
       "        vertical-align: top;\n",
       "    }\n",
       "\n",
       "    .dataframe thead th {\n",
       "        text-align: right;\n",
       "    }\n",
       "</style>\n",
       "<table border=\"1\" class=\"dataframe\">\n",
       "  <thead>\n",
       "    <tr style=\"text-align: right;\">\n",
       "      <th></th>\n",
       "      <th>Trip Duration</th>\n",
       "      <th>Start Station ID</th>\n",
       "      <th>Start Station Latitude</th>\n",
       "      <th>Start Station Longitude</th>\n",
       "      <th>End Station ID</th>\n",
       "      <th>End Station Latitude</th>\n",
       "      <th>End Station Longitude</th>\n",
       "      <th>Bike ID</th>\n",
       "      <th>Birth Year</th>\n",
       "    </tr>\n",
       "  </thead>\n",
       "  <tbody>\n",
       "    <tr>\n",
       "      <th>count</th>\n",
       "      <td>1518323.00</td>\n",
       "      <td>1518323.00</td>\n",
       "      <td>1518323.00</td>\n",
       "      <td>1518323.00</td>\n",
       "      <td>1518323.00</td>\n",
       "      <td>1518323.00</td>\n",
       "      <td>1518323.00</td>\n",
       "      <td>1518323.00</td>\n",
       "      <td>1439924.00</td>\n",
       "    </tr>\n",
       "    <tr>\n",
       "      <th>mean</th>\n",
       "      <td>796.13</td>\n",
       "      <td>1226.38</td>\n",
       "      <td>40.74</td>\n",
       "      <td>-73.99</td>\n",
       "      <td>1207.26</td>\n",
       "      <td>40.74</td>\n",
       "      <td>-73.99</td>\n",
       "      <td>21772.79</td>\n",
       "      <td>1977.43</td>\n",
       "    </tr>\n",
       "    <tr>\n",
       "      <th>std</th>\n",
       "      <td>9114.85</td>\n",
       "      <td>1280.98</td>\n",
       "      <td>0.05</td>\n",
       "      <td>0.09</td>\n",
       "      <td>1272.40</td>\n",
       "      <td>0.07</td>\n",
       "      <td>0.12</td>\n",
       "      <td>4274.28</td>\n",
       "      <td>11.98</td>\n",
       "    </tr>\n",
       "    <tr>\n",
       "      <th>min</th>\n",
       "      <td>61.00</td>\n",
       "      <td>72.00</td>\n",
       "      <td>0.00</td>\n",
       "      <td>-74.03</td>\n",
       "      <td>72.00</td>\n",
       "      <td>0.00</td>\n",
       "      <td>-74.04</td>\n",
       "      <td>14529.00</td>\n",
       "      <td>1858.00</td>\n",
       "    </tr>\n",
       "    <tr>\n",
       "      <th>25%</th>\n",
       "      <td>337.00</td>\n",
       "      <td>357.00</td>\n",
       "      <td>40.72</td>\n",
       "      <td>-74.00</td>\n",
       "      <td>355.00</td>\n",
       "      <td>40.72</td>\n",
       "      <td>-74.00</td>\n",
       "      <td>17851.00</td>\n",
       "      <td>1969.00</td>\n",
       "    </tr>\n",
       "    <tr>\n",
       "      <th>50%</th>\n",
       "      <td>541.00</td>\n",
       "      <td>482.00</td>\n",
       "      <td>40.74</td>\n",
       "      <td>-73.99</td>\n",
       "      <td>479.00</td>\n",
       "      <td>40.74</td>\n",
       "      <td>-73.99</td>\n",
       "      <td>21262.00</td>\n",
       "      <td>1980.00</td>\n",
       "    </tr>\n",
       "    <tr>\n",
       "      <th>75%</th>\n",
       "      <td>898.00</td>\n",
       "      <td>3093.00</td>\n",
       "      <td>40.76</td>\n",
       "      <td>-73.98</td>\n",
       "      <td>3086.00</td>\n",
       "      <td>40.75</td>\n",
       "      <td>-73.98</td>\n",
       "      <td>25899.00</td>\n",
       "      <td>1987.00</td>\n",
       "    </tr>\n",
       "    <tr>\n",
       "      <th>max</th>\n",
       "      <td>5325688.00</td>\n",
       "      <td>3454.00</td>\n",
       "      <td>40.80</td>\n",
       "      <td>0.00</td>\n",
       "      <td>3454.00</td>\n",
       "      <td>40.80</td>\n",
       "      <td>0.00</td>\n",
       "      <td>27965.00</td>\n",
       "      <td>2001.00</td>\n",
       "    </tr>\n",
       "  </tbody>\n",
       "</table>\n",
       "</div>"
      ],
      "text/plain": [
       "       Trip Duration  Start Station ID  Start Station Latitude  \\\n",
       "count     1518323.00        1518323.00              1518323.00   \n",
       "mean          796.13           1226.38                   40.74   \n",
       "std          9114.85           1280.98                    0.05   \n",
       "min            61.00             72.00                    0.00   \n",
       "25%           337.00            357.00                   40.72   \n",
       "50%           541.00            482.00                   40.74   \n",
       "75%           898.00           3093.00                   40.76   \n",
       "max       5325688.00           3454.00                   40.80   \n",
       "\n",
       "       Start Station Longitude  End Station ID  End Station Latitude  \\\n",
       "count               1518323.00      1518323.00            1518323.00   \n",
       "mean                    -73.99         1207.26                 40.74   \n",
       "std                       0.09         1272.40                  0.07   \n",
       "min                     -74.03           72.00                  0.00   \n",
       "25%                     -74.00          355.00                 40.72   \n",
       "50%                     -73.99          479.00                 40.74   \n",
       "75%                     -73.98         3086.00                 40.75   \n",
       "max                       0.00         3454.00                 40.80   \n",
       "\n",
       "       End Station Longitude     Bike ID  Birth Year  \n",
       "count             1518323.00  1518323.00  1439924.00  \n",
       "mean                  -73.99    21772.79     1977.43  \n",
       "std                     0.12     4274.28       11.98  \n",
       "min                   -74.04    14529.00     1858.00  \n",
       "25%                   -74.00    17851.00     1969.00  \n",
       "50%                   -73.99    21262.00     1980.00  \n",
       "75%                   -73.98    25899.00     1987.00  \n",
       "max                     0.00    27965.00     2001.00  "
      ]
     },
     "execution_count": 42,
     "metadata": {},
     "output_type": "execute_result"
    }
   ],
   "source": [
    "#Ensure data is formatted correctly to avoid errors in the visuals\n",
    "df['Start Time'] = to_datetime(df['Start Time'])\n",
    "df['Stop Time'] = to_datetime(df['Stop Time'])\n",
    "df['Start Station Name'] = df['Start Station Name'].astype('category')\n",
    "df['End Station Name'] = df['End Station Name'].astype('category')\n",
    "df['User Type'] = df['User Type'].astype('category')\n",
    "df['Gender'] = df['Gender'].astype('category')\n",
    "round(df.describe(),2)"
   ]
  },
  {
   "cell_type": "code",
   "execution_count": 43,
   "metadata": {},
   "outputs": [],
   "source": [
    "df_bikenum = pd.DataFrame()\n",
    "df_bikenum['First Bike'] = df[df['Trip Duration'] < 90]['Start Station Name'] \n",
    "df_bikenum['Second Bike'] = df[df['Trip Duration'] < 90]['End Station Name']"
   ]
  },
  {
   "cell_type": "code",
   "execution_count": 44,
   "metadata": {},
   "outputs": [
    {
     "data": {
      "text/html": [
       "<div>\n",
       "<style scoped>\n",
       "    .dataframe tbody tr th:only-of-type {\n",
       "        vertical-align: middle;\n",
       "    }\n",
       "\n",
       "    .dataframe tbody tr th {\n",
       "        vertical-align: top;\n",
       "    }\n",
       "\n",
       "    .dataframe thead th {\n",
       "        text-align: right;\n",
       "    }\n",
       "</style>\n",
       "<table border=\"1\" class=\"dataframe\">\n",
       "  <thead>\n",
       "    <tr style=\"text-align: right;\">\n",
       "      <th></th>\n",
       "      <th>First Bike</th>\n",
       "      <th>Second Bike</th>\n",
       "    </tr>\n",
       "  </thead>\n",
       "  <tbody>\n",
       "    <tr>\n",
       "      <th>59</th>\n",
       "      <td>5 Ave &amp; E 73 St</td>\n",
       "      <td>5 Ave &amp; E 73 St</td>\n",
       "    </tr>\n",
       "    <tr>\n",
       "      <th>296</th>\n",
       "      <td>St Marks Pl &amp; 2 Ave</td>\n",
       "      <td>St Marks Pl &amp; 1 Ave</td>\n",
       "    </tr>\n",
       "    <tr>\n",
       "      <th>338</th>\n",
       "      <td>Canal St &amp; Rutgers St</td>\n",
       "      <td>Pike St &amp; E Broadway</td>\n",
       "    </tr>\n",
       "    <tr>\n",
       "      <th>857</th>\n",
       "      <td>Monroe St &amp; Bedford Ave</td>\n",
       "      <td>Monroe St &amp; Bedford Ave</td>\n",
       "    </tr>\n",
       "    <tr>\n",
       "      <th>955</th>\n",
       "      <td>Plaza St West &amp; Flatbush Ave</td>\n",
       "      <td>7 Ave &amp; Park Pl</td>\n",
       "    </tr>\n",
       "  </tbody>\n",
       "</table>\n",
       "</div>"
      ],
      "text/plain": [
       "                       First Bike              Second Bike\n",
       "59                5 Ave & E 73 St          5 Ave & E 73 St\n",
       "296           St Marks Pl & 2 Ave      St Marks Pl & 1 Ave\n",
       "338         Canal St & Rutgers St     Pike St & E Broadway\n",
       "857       Monroe St & Bedford Ave  Monroe St & Bedford Ave\n",
       "955  Plaza St West & Flatbush Ave          7 Ave & Park Pl"
      ]
     },
     "execution_count": 44,
     "metadata": {},
     "output_type": "execute_result"
    }
   ],
   "source": [
    "df_bikenum.head()"
   ]
  },
  {
   "cell_type": "code",
   "execution_count": 45,
   "metadata": {},
   "outputs": [],
   "source": [
    "del(df_bikenum)\n",
    "df = df.drop(df.index[(df['Trip Duration'] < 90) & (df['Start Station Latitude'] == df['End Station Latitude'])])"
   ]
  },
  {
   "cell_type": "code",
   "execution_count": 46,
   "metadata": {},
   "outputs": [],
   "source": [
    "df_stationCount = df.groupby([\"Start Station Name\", \"Start Station Latitude\" , \"Start Station Longitude\"]).size()"
   ]
  },
  {
   "cell_type": "code",
   "execution_count": 47,
   "metadata": {},
   "outputs": [
    {
     "data": {
      "text/plain": [
       "Start Station Name               Start Station Latitude  Start Station Longitude\n",
       "1 Ave & E 16 St                  40.732219               -73.981656                 7016\n",
       "1 Ave & E 18 St                  40.733812               -73.980544                 5910\n",
       "1 Ave & E 30 St                  40.741444               -73.975361                 5358\n",
       "1 Ave & E 44 St                  40.750020               -73.969053                 3545\n",
       "1 Ave & E 62 St                  40.761227               -73.960940                 3945\n",
       "1 Ave & E 68 St                  40.765005               -73.958185                 6767\n",
       "1 Ave & E 78 St                  40.771404               -73.953517                 3996\n",
       "1 Ave & E 94 St                  40.781721               -73.945940                 1212\n",
       "1 Pl & Clinton St                40.680959               -73.999057                  555\n",
       "10 St & 5 Ave                    40.668627               -73.987001                  424\n",
       "10 St & 7 Ave                    40.666208               -73.981999                  859\n",
       "11 Ave & W 27 St                 40.751396               -74.005226                 4591\n",
       "11 Ave & W 41 St                 40.760301               -73.998842                 4658\n",
       "11 Ave & W 59 St                 40.771522               -73.990541                 3790\n",
       "12 Ave & W 40 St                 40.760875               -74.002777                 4966\n",
       "12 St & 4 Ave                    40.668603               -73.990439                  319\n",
       "14 St & 5 Ave                    40.666287               -73.988951                  725\n",
       "14 St & 7 Ave                    40.663779               -73.983968                  727\n",
       "2 Ave  & E 104 St                40.789210               -73.943708                  565\n",
       "2 Ave & 9 St                     40.672481               -73.993314                  294\n",
       "2 Ave & E 31 St                  40.742909               -73.977061                 4612\n",
       "2 Ave & E 96 St                  40.783964               -73.947167                  270\n",
       "2 Ave & E 99 St                  40.786259               -73.945526                  480\n",
       "21 St & 41 Ave                   40.753833               -73.942677                  139\n",
       "21 St & 43 Ave                   40.750525               -73.945948                  233\n",
       "21 St & Queens Plaza North       40.753260               -73.943358                  186\n",
       "3 Ave & 14 St                    40.668546               -73.993333                  436\n",
       "3 Ave & E 100 St                 40.787721               -73.947283                  209\n",
       "3 Ave & E 62 St                  40.763126               -73.965269                 2048\n",
       "3 Ave & E 71 St                  40.768737               -73.961199                 1219\n",
       "                                                                                    ... \n",
       "W 88 St & West End Ave           40.790254               -73.977183                  893\n",
       "W 89 St & Columbus Ave           40.788221               -73.970416                 1313\n",
       "W 90 St & Amsterdam Ave          40.790179               -73.972889                 1071\n",
       "W 92 St & Broadway               40.792100               -73.973900                 1812\n",
       "W 95 St & Broadway               40.793770               -73.971888                 1711\n",
       "W Broadway & Spring St           40.724910               -74.001547                 4097\n",
       "Warren St & Church St            40.714740               -74.009106                 2152\n",
       "Warren St & Court St             40.686371               -73.993833                  853\n",
       "Washington Ave & Greene Ave      40.686501               -73.965633                  800\n",
       "Washington Ave & Park Ave        40.696102               -73.967510                 1355\n",
       "Washington Park                  40.691782               -73.973730                 1006\n",
       "Washington Pl & 6 Ave            40.732241               -74.000264                 2747\n",
       "Washington Pl & Broadway         40.729039               -73.994046                 4362\n",
       "Washington St & Gansevoort St    40.739323               -74.008119                 1455\n",
       "Water - Whitehall Plaza          40.702551               -74.012723                 1608\n",
       "Watts St & Greenwich St          40.724055               -74.009660                 2906\n",
       "West Drive & Prospect Park West  40.661063               -73.979453                 1473\n",
       "West End Ave & W 107 St          40.802117               -73.968181                  655\n",
       "West End Ave & W 94 St           40.794165               -73.974124                 1102\n",
       "West St & Chambers St            40.717548               -74.013221                 6952\n",
       "West Thames St                   40.708347               -74.017134                 2783\n",
       "William St & Pine St             40.707179               -74.008873                 1838\n",
       "Willoughby Ave & Hall St         40.691960               -73.965369                 1594\n",
       "Willoughby Ave & Tompkins Ave    40.694254               -73.946269                  341\n",
       "Willoughby Ave & Walworth St     40.693317               -73.953820                  462\n",
       "Willoughby St & Fleet St         40.691966               -73.981302                 2048\n",
       "Wolcott St & Dwight St           40.675327               -74.010070                  197\n",
       "Wyckoff St & 3 Ave               40.682755               -73.982586                  667\n",
       "Wythe Ave & Metropolitan Ave     40.716887               -73.963198                 2940\n",
       "York St & Jay St                 40.701485               -73.986569                 2767\n",
       "Length: 619, dtype: int64"
      ]
     },
     "execution_count": 47,
     "metadata": {},
     "output_type": "execute_result"
    }
   ],
   "source": [
    "df_stationCount"
   ]
  },
  {
   "cell_type": "code",
   "execution_count": 48,
   "metadata": {},
   "outputs": [],
   "source": [
    "anna2 = df_stationCount.reset_index()"
   ]
  },
  {
   "cell_type": "code",
   "execution_count": 49,
   "metadata": {},
   "outputs": [],
   "source": [
    "anna2 = anna2.rename(columns = {0:'station popularity'} )"
   ]
  },
  {
   "cell_type": "code",
   "execution_count": 50,
   "metadata": {},
   "outputs": [
    {
     "data": {
      "text/html": [
       "<div>\n",
       "<style scoped>\n",
       "    .dataframe tbody tr th:only-of-type {\n",
       "        vertical-align: middle;\n",
       "    }\n",
       "\n",
       "    .dataframe tbody tr th {\n",
       "        vertical-align: top;\n",
       "    }\n",
       "\n",
       "    .dataframe thead th {\n",
       "        text-align: right;\n",
       "    }\n",
       "</style>\n",
       "<table border=\"1\" class=\"dataframe\">\n",
       "  <thead>\n",
       "    <tr style=\"text-align: right;\">\n",
       "      <th></th>\n",
       "      <th>Start Station Name</th>\n",
       "      <th>Start Station Latitude</th>\n",
       "      <th>Start Station Longitude</th>\n",
       "      <th>station popularity</th>\n",
       "    </tr>\n",
       "  </thead>\n",
       "  <tbody>\n",
       "    <tr>\n",
       "      <th>0</th>\n",
       "      <td>1 Ave &amp; E 16 St</td>\n",
       "      <td>40.732219</td>\n",
       "      <td>-73.981656</td>\n",
       "      <td>7016</td>\n",
       "    </tr>\n",
       "    <tr>\n",
       "      <th>1</th>\n",
       "      <td>1 Ave &amp; E 18 St</td>\n",
       "      <td>40.733812</td>\n",
       "      <td>-73.980544</td>\n",
       "      <td>5910</td>\n",
       "    </tr>\n",
       "  </tbody>\n",
       "</table>\n",
       "</div>"
      ],
      "text/plain": [
       "  Start Station Name  Start Station Latitude  Start Station Longitude  \\\n",
       "0    1 Ave & E 16 St               40.732219               -73.981656   \n",
       "1    1 Ave & E 18 St               40.733812               -73.980544   \n",
       "\n",
       "   station popularity  \n",
       "0                7016  \n",
       "1                5910  "
      ]
     },
     "execution_count": 50,
     "metadata": {},
     "output_type": "execute_result"
    }
   ],
   "source": [
    "anna2.head(2)"
   ]
  },
  {
   "cell_type": "code",
   "execution_count": 51,
   "metadata": {},
   "outputs": [
    {
     "data": {
      "text/plain": [
       "(619, 4)"
      ]
     },
     "execution_count": 51,
     "metadata": {},
     "output_type": "execute_result"
    }
   ],
   "source": [
    "anna2.shape"
   ]
  },
  {
   "cell_type": "code",
   "execution_count": 52,
   "metadata": {},
   "outputs": [
    {
     "name": "stdout",
     "output_type": "stream",
     "text": [
      "['Neighborhood Tabulation Areas.geojson']\n"
     ]
    }
   ],
   "source": [
    "path = 'C:/Users/a.guidi/Desktop/side_project'\n",
    "extension = 'geojson'\n",
    "os.chdir(path)\n",
    "result2 = glob.glob('*Areas.{}'.format(extension))\n",
    "print(result2)"
   ]
  },
  {
   "cell_type": "code",
   "execution_count": 53,
   "metadata": {},
   "outputs": [],
   "source": [
    "import json "
   ]
  },
  {
   "cell_type": "code",
   "execution_count": 54,
   "metadata": {},
   "outputs": [],
   "source": [
    "import re"
   ]
  },
  {
   "cell_type": "code",
   "execution_count": 57,
   "metadata": {},
   "outputs": [],
   "source": [
    "import geojson"
   ]
  },
  {
   "cell_type": "code",
   "execution_count": 58,
   "metadata": {},
   "outputs": [],
   "source": [
    "with open('C:/Users/a.guidi/Desktop/side_project/Neighborhood Tabulation Areas.geojson') as f:\n",
    "    gj = geojson.load(f)\n",
    "features = gj['features'][0]"
   ]
  },
  {
   "cell_type": "code",
   "execution_count": 59,
   "metadata": {},
   "outputs": [
    {
     "data": {
      "text/plain": [
       "[[[[-73.976049, 40.631276],\n",
       "   [-73.977165, 40.630747],\n",
       "   [-73.976998, 40.629871],\n",
       "   [-73.97685, 40.629089],\n",
       "   [-73.976696, 40.628355],\n",
       "   [-73.976578, 40.627573],\n",
       "   [-73.976515, 40.627294],\n",
       "   [-73.97645, 40.627008],\n",
       "   [-73.976235, 40.625976],\n",
       "   [-73.977262, 40.625853],\n",
       "   [-73.977197, 40.625102],\n",
       "   [-73.97711, 40.624948],\n",
       "   [-73.976944, 40.624053],\n",
       "   [-73.976835, 40.623481],\n",
       "   [-73.976752, 40.623013],\n",
       "   [-73.976566, 40.621995],\n",
       "   [-73.976951, 40.62163],\n",
       "   [-73.977054, 40.621533],\n",
       "   [-73.975394, 40.62077],\n",
       "   [-73.976824, 40.618676],\n",
       "   [-73.977523, 40.617677],\n",
       "   [-73.97785, 40.617288],\n",
       "   [-73.97563, 40.615945],\n",
       "   [-73.975373, 40.615755],\n",
       "   [-73.975443, 40.616114],\n",
       "   [-73.975481, 40.616312],\n",
       "   [-73.974443, 40.616422],\n",
       "   [-73.973359, 40.616542],\n",
       "   [-73.972903, 40.614153],\n",
       "   [-73.973993, 40.61403],\n",
       "   [-73.975172, 40.614724],\n",
       "   [-73.974973, 40.613668],\n",
       "   [-73.974893, 40.613186],\n",
       "   [-73.974777, 40.612638],\n",
       "   [-73.975208, 40.612885],\n",
       "   [-73.977408, 40.614218],\n",
       "   [-73.979638, 40.615565],\n",
       "   [-73.980039, 40.615807],\n",
       "   [-73.980879, 40.616314],\n",
       "   [-73.981868, 40.616912],\n",
       "   [-73.984068, 40.618241],\n",
       "   [-73.986275, 40.619567],\n",
       "   [-73.985694, 40.620132],\n",
       "   [-73.987851, 40.621435],\n",
       "   [-73.990094, 40.622789],\n",
       "   [-73.99255, 40.624274],\n",
       "   [-73.993982, 40.625141],\n",
       "   [-73.994325, 40.625343],\n",
       "   [-73.994893, 40.625462],\n",
       "   [-73.994735, 40.625615],\n",
       "   [-73.99465, 40.625697],\n",
       "   [-73.995078, 40.625807],\n",
       "   [-73.996788, 40.626826],\n",
       "   [-73.996878, 40.626531],\n",
       "   [-73.997016, 40.626062],\n",
       "   [-73.997241, 40.625289],\n",
       "   [-73.998116, 40.625816],\n",
       "   [-74.000314, 40.627145],\n",
       "   [-74.002515, 40.628474],\n",
       "   [-74.002228, 40.628751],\n",
       "   [-74.00193, 40.629033],\n",
       "   [-74.003062, 40.629715],\n",
       "   [-74.003686, 40.630092],\n",
       "   [-74.004137, 40.630364],\n",
       "   [-74.006339, 40.631694],\n",
       "   [-74.007023, 40.63211],\n",
       "   [-74.006807, 40.63225],\n",
       "   [-74.006619, 40.632375],\n",
       "   [-74.006306, 40.632584],\n",
       "   [-74.005565, 40.633083],\n",
       "   [-74.007356, 40.634164],\n",
       "   [-74.006751, 40.634745],\n",
       "   [-74.006418, 40.635065],\n",
       "   [-74.006169, 40.635304],\n",
       "   [-74.005586, 40.635866],\n",
       "   [-74.005003, 40.636425],\n",
       "   [-74.00442, 40.636985],\n",
       "   [-74.004111, 40.637283],\n",
       "   [-74.003838, 40.637546],\n",
       "   [-74.003253, 40.638104],\n",
       "   [-74.002672, 40.638667],\n",
       "   [-74.002369, 40.638958],\n",
       "   [-74.002091, 40.639225],\n",
       "   [-74.001508, 40.639785],\n",
       "   [-74.000925, 40.640346],\n",
       "   [-74.000661, 40.640599],\n",
       "   [-74.000341, 40.640905],\n",
       "   [-73.999757, 40.641467],\n",
       "   [-73.999176, 40.642025],\n",
       "   [-73.996974, 40.640694],\n",
       "   [-73.99551, 40.63981],\n",
       "   [-73.994795, 40.640288],\n",
       "   [-73.994331, 40.6406],\n",
       "   [-73.994077, 40.64077],\n",
       "   [-73.993363, 40.641248],\n",
       "   [-73.992645, 40.641728],\n",
       "   [-73.991928, 40.642205],\n",
       "   [-73.991213, 40.642686],\n",
       "   [-73.990496, 40.643164],\n",
       "   [-73.989779, 40.643645],\n",
       "   [-73.989059, 40.644119],\n",
       "   [-73.98835, 40.644562],\n",
       "   [-73.987499, 40.644046],\n",
       "   [-73.986731, 40.643574],\n",
       "   [-73.985896, 40.643068],\n",
       "   [-73.985095, 40.642573],\n",
       "   [-73.984587, 40.642262],\n",
       "   [-73.984303, 40.642085],\n",
       "   [-73.983316, 40.641479],\n",
       "   [-73.982994, 40.641325],\n",
       "   [-73.982445, 40.641539],\n",
       "   [-73.982043, 40.641708],\n",
       "   [-73.981232, 40.642045],\n",
       "   [-73.980421, 40.642385],\n",
       "   [-73.980074, 40.64054],\n",
       "   [-73.980007, 40.640209],\n",
       "   [-73.97991, 40.639686],\n",
       "   [-73.979874, 40.639518],\n",
       "   [-73.979677, 40.638465],\n",
       "   [-73.979554, 40.637819],\n",
       "   [-73.979476, 40.637431],\n",
       "   [-73.979386, 40.636932],\n",
       "   [-73.979286, 40.636414],\n",
       "   [-73.979112, 40.63544],\n",
       "   [-73.978022, 40.635553],\n",
       "   [-73.976889, 40.635675],\n",
       "   [-73.976637, 40.634354],\n",
       "   [-73.976551, 40.633904],\n",
       "   [-73.976433, 40.633289],\n",
       "   [-73.976049, 40.631276]]]]"
      ]
     },
     "execution_count": 59,
     "metadata": {},
     "output_type": "execute_result"
    }
   ],
   "source": [
    "features[\"geometry\"][\"coordinates\"]"
   ]
  },
  {
   "cell_type": "code",
   "execution_count": 83,
   "metadata": {},
   "outputs": [
    {
     "data": {
      "text/plain": [
       "geojson.feature.FeatureCollection"
      ]
     },
     "execution_count": 83,
     "metadata": {},
     "output_type": "execute_result"
    }
   ],
   "source": [
    "type(gj)"
   ]
  },
  {
   "cell_type": "code",
   "execution_count": 61,
   "metadata": {},
   "outputs": [
    {
     "data": {
      "text/plain": [
       "'Borough Park'"
      ]
     },
     "execution_count": 61,
     "metadata": {},
     "output_type": "execute_result"
    }
   ],
   "source": [
    "gj[\"features\"][0][\"properties\"][\"ntaname\"]"
   ]
  },
  {
   "cell_type": "code",
   "execution_count": 62,
   "metadata": {},
   "outputs": [],
   "source": [
    "# !pip install C:\\Users\\a.guidi\\Downloads\\Shapely-1.6.4.post2-cp37-cp37m-win_amd64.whl"
   ]
  },
  {
   "cell_type": "code",
   "execution_count": 63,
   "metadata": {},
   "outputs": [],
   "source": [
    "from shapely.geometry import Point, Polygon"
   ]
  },
  {
   "cell_type": "code",
   "execution_count": 64,
   "metadata": {},
   "outputs": [
    {
     "data": {
      "text/plain": [
       "1"
      ]
     },
     "execution_count": 64,
     "metadata": {},
     "output_type": "execute_result"
    }
   ],
   "source": [
    "len(features[\"geometry\"][\"coordinates\"])"
   ]
  },
  {
   "cell_type": "code",
   "execution_count": 65,
   "metadata": {},
   "outputs": [
    {
     "data": {
      "text/plain": [
       "1"
      ]
     },
     "execution_count": 65,
     "metadata": {},
     "output_type": "execute_result"
    }
   ],
   "source": [
    "len(features[\"geometry\"][\"coordinates\"][0])"
   ]
  },
  {
   "cell_type": "code",
   "execution_count": 68,
   "metadata": {},
   "outputs": [
    {
     "data": {
      "text/plain": [
       "130"
      ]
     },
     "execution_count": 68,
     "metadata": {},
     "output_type": "execute_result"
    }
   ],
   "source": [
    "len(features[\"geometry\"][\"coordinates\"][0][0])"
   ]
  },
  {
   "cell_type": "code",
   "execution_count": 136,
   "metadata": {},
   "outputs": [
    {
     "data": {
      "text/plain": [
       "[[-73.976049, 40.631276],\n",
       " [-73.977165, 40.630747],\n",
       " [-73.976998, 40.629871],\n",
       " [-73.97685, 40.629089],\n",
       " [-73.976696, 40.628355],\n",
       " [-73.976578, 40.627573],\n",
       " [-73.976515, 40.627294],\n",
       " [-73.97645, 40.627008],\n",
       " [-73.976235, 40.625976],\n",
       " [-73.977262, 40.625853],\n",
       " [-73.977197, 40.625102],\n",
       " [-73.97711, 40.624948],\n",
       " [-73.976944, 40.624053],\n",
       " [-73.976835, 40.623481],\n",
       " [-73.976752, 40.623013],\n",
       " [-73.976566, 40.621995],\n",
       " [-73.976951, 40.62163],\n",
       " [-73.977054, 40.621533],\n",
       " [-73.975394, 40.62077],\n",
       " [-73.976824, 40.618676],\n",
       " [-73.977523, 40.617677],\n",
       " [-73.97785, 40.617288],\n",
       " [-73.97563, 40.615945],\n",
       " [-73.975373, 40.615755],\n",
       " [-73.975443, 40.616114],\n",
       " [-73.975481, 40.616312],\n",
       " [-73.974443, 40.616422],\n",
       " [-73.973359, 40.616542],\n",
       " [-73.972903, 40.614153],\n",
       " [-73.973993, 40.61403],\n",
       " [-73.975172, 40.614724],\n",
       " [-73.974973, 40.613668],\n",
       " [-73.974893, 40.613186],\n",
       " [-73.974777, 40.612638],\n",
       " [-73.975208, 40.612885],\n",
       " [-73.977408, 40.614218],\n",
       " [-73.979638, 40.615565],\n",
       " [-73.980039, 40.615807],\n",
       " [-73.980879, 40.616314],\n",
       " [-73.981868, 40.616912],\n",
       " [-73.984068, 40.618241],\n",
       " [-73.986275, 40.619567],\n",
       " [-73.985694, 40.620132],\n",
       " [-73.987851, 40.621435],\n",
       " [-73.990094, 40.622789],\n",
       " [-73.99255, 40.624274],\n",
       " [-73.993982, 40.625141],\n",
       " [-73.994325, 40.625343],\n",
       " [-73.994893, 40.625462],\n",
       " [-73.994735, 40.625615],\n",
       " [-73.99465, 40.625697],\n",
       " [-73.995078, 40.625807],\n",
       " [-73.996788, 40.626826],\n",
       " [-73.996878, 40.626531],\n",
       " [-73.997016, 40.626062],\n",
       " [-73.997241, 40.625289],\n",
       " [-73.998116, 40.625816],\n",
       " [-74.000314, 40.627145],\n",
       " [-74.002515, 40.628474],\n",
       " [-74.002228, 40.628751],\n",
       " [-74.00193, 40.629033],\n",
       " [-74.003062, 40.629715],\n",
       " [-74.003686, 40.630092],\n",
       " [-74.004137, 40.630364],\n",
       " [-74.006339, 40.631694],\n",
       " [-74.007023, 40.63211],\n",
       " [-74.006807, 40.63225],\n",
       " [-74.006619, 40.632375],\n",
       " [-74.006306, 40.632584],\n",
       " [-74.005565, 40.633083],\n",
       " [-74.007356, 40.634164],\n",
       " [-74.006751, 40.634745],\n",
       " [-74.006418, 40.635065],\n",
       " [-74.006169, 40.635304],\n",
       " [-74.005586, 40.635866],\n",
       " [-74.005003, 40.636425],\n",
       " [-74.00442, 40.636985],\n",
       " [-74.004111, 40.637283],\n",
       " [-74.003838, 40.637546],\n",
       " [-74.003253, 40.638104],\n",
       " [-74.002672, 40.638667],\n",
       " [-74.002369, 40.638958],\n",
       " [-74.002091, 40.639225],\n",
       " [-74.001508, 40.639785],\n",
       " [-74.000925, 40.640346],\n",
       " [-74.000661, 40.640599],\n",
       " [-74.000341, 40.640905],\n",
       " [-73.999757, 40.641467],\n",
       " [-73.999176, 40.642025],\n",
       " [-73.996974, 40.640694],\n",
       " [-73.99551, 40.63981],\n",
       " [-73.994795, 40.640288],\n",
       " [-73.994331, 40.6406],\n",
       " [-73.994077, 40.64077],\n",
       " [-73.993363, 40.641248],\n",
       " [-73.992645, 40.641728],\n",
       " [-73.991928, 40.642205],\n",
       " [-73.991213, 40.642686],\n",
       " [-73.990496, 40.643164],\n",
       " [-73.989779, 40.643645],\n",
       " [-73.989059, 40.644119],\n",
       " [-73.98835, 40.644562],\n",
       " [-73.987499, 40.644046],\n",
       " [-73.986731, 40.643574],\n",
       " [-73.985896, 40.643068],\n",
       " [-73.985095, 40.642573],\n",
       " [-73.984587, 40.642262],\n",
       " [-73.984303, 40.642085],\n",
       " [-73.983316, 40.641479],\n",
       " [-73.982994, 40.641325],\n",
       " [-73.982445, 40.641539],\n",
       " [-73.982043, 40.641708],\n",
       " [-73.981232, 40.642045],\n",
       " [-73.980421, 40.642385],\n",
       " [-73.980074, 40.64054],\n",
       " [-73.980007, 40.640209],\n",
       " [-73.97991, 40.639686],\n",
       " [-73.979874, 40.639518],\n",
       " [-73.979677, 40.638465],\n",
       " [-73.979554, 40.637819],\n",
       " [-73.979476, 40.637431],\n",
       " [-73.979386, 40.636932],\n",
       " [-73.979286, 40.636414],\n",
       " [-73.979112, 40.63544],\n",
       " [-73.978022, 40.635553],\n",
       " [-73.976889, 40.635675],\n",
       " [-73.976637, 40.634354],\n",
       " [-73.976551, 40.633904],\n",
       " [-73.976433, 40.633289],\n",
       " [-73.976049, 40.631276]]"
      ]
     },
     "execution_count": 136,
     "metadata": {},
     "output_type": "execute_result"
    }
   ],
   "source": [
    "features[\"geometry\"][\"coordinates\"][0][0]"
   ]
  },
  {
   "cell_type": "markdown",
   "metadata": {},
   "source": [
    "## feature is the first neighbourhood"
   ]
  },
  {
   "cell_type": "code",
   "execution_count": 72,
   "metadata": {},
   "outputs": [],
   "source": [
    "poly_boroughpark = Polygon(features[\"geometry\"][\"coordinates\"][0][0])"
   ]
  },
  {
   "cell_type": "code",
   "execution_count": 75,
   "metadata": {},
   "outputs": [
    {
     "data": {
      "text/plain": [
       "40.73381219196632"
      ]
     },
     "execution_count": 75,
     "metadata": {},
     "output_type": "execute_result"
    }
   ],
   "source": [
    "anna2.iloc[1,:][\"Start Station Latitude\"]"
   ]
  },
  {
   "cell_type": "code",
   "execution_count": 76,
   "metadata": {},
   "outputs": [],
   "source": [
    "p1 = Point(anna2.iloc[1,:][\"Start Station Latitude\"], anna2.iloc[1,:][\"Start Station Longitude\"])"
   ]
  },
  {
   "cell_type": "code",
   "execution_count": 77,
   "metadata": {},
   "outputs": [
    {
     "data": {
      "image/svg+xml": [
       "<svg xmlns=\"http://www.w3.org/2000/svg\" xmlns:xlink=\"http://www.w3.org/1999/xlink\" width=\"100.0\" height=\"100.0\" viewBox=\"39.73381219196632 -74.9805442094803 2.0 2.0\" preserveAspectRatio=\"xMinYMin meet\"><g transform=\"matrix(1,0,0,-1,0,-147.9610884189606)\"><circle cx=\"40.73381219196632\" cy=\"-73.9805442094803\" r=\"0.06\" stroke=\"#555555\" stroke-width=\"0.02\" fill=\"#66cc99\" opacity=\"0.6\" /></g></svg>"
      ],
      "text/plain": [
       "<shapely.geometry.point.Point at 0x273efc0dc88>"
      ]
     },
     "execution_count": 77,
     "metadata": {},
     "output_type": "execute_result"
    }
   ],
   "source": [
    "p1"
   ]
  },
  {
   "cell_type": "code",
   "execution_count": 78,
   "metadata": {},
   "outputs": [
    {
     "data": {
      "image/svg+xml": [
       "<svg xmlns=\"http://www.w3.org/2000/svg\" xmlns:xlink=\"http://www.w3.org/1999/xlink\" width=\"100.0\" height=\"100.0\" viewBox=\"-74.00873412 40.61125988 0.0372092399999957 0.03468024000000014\" preserveAspectRatio=\"xMinYMin meet\"><g transform=\"matrix(1,0,0,-1,0,81.2572)\"><path fill-rule=\"evenodd\" fill=\"#66cc99\" stroke=\"#555555\" stroke-width=\"0.000744184799999914\" opacity=\"0.6\" d=\"M -73.976049,40.631276 L -73.977165,40.630747 L -73.976998,40.629871 L -73.97685,40.629089 L -73.976696,40.628355 L -73.976578,40.627573 L -73.976515,40.627294 L -73.97645,40.627008 L -73.976235,40.625976 L -73.977262,40.625853 L -73.977197,40.625102 L -73.97711,40.624948 L -73.976944,40.624053 L -73.976835,40.623481 L -73.976752,40.623013 L -73.976566,40.621995 L -73.976951,40.62163 L -73.977054,40.621533 L -73.975394,40.62077 L -73.976824,40.618676 L -73.977523,40.617677 L -73.97785,40.617288 L -73.97563,40.615945 L -73.975373,40.615755 L -73.975443,40.616114 L -73.975481,40.616312 L -73.974443,40.616422 L -73.973359,40.616542 L -73.972903,40.614153 L -73.973993,40.61403 L -73.975172,40.614724 L -73.974973,40.613668 L -73.974893,40.613186 L -73.974777,40.612638 L -73.975208,40.612885 L -73.977408,40.614218 L -73.979638,40.615565 L -73.980039,40.615807 L -73.980879,40.616314 L -73.981868,40.616912 L -73.984068,40.618241 L -73.986275,40.619567 L -73.985694,40.620132 L -73.987851,40.621435 L -73.990094,40.622789 L -73.99255,40.624274 L -73.993982,40.625141 L -73.994325,40.625343 L -73.994893,40.625462 L -73.994735,40.625615 L -73.99465,40.625697 L -73.995078,40.625807 L -73.996788,40.626826 L -73.996878,40.626531 L -73.997016,40.626062 L -73.997241,40.625289 L -73.998116,40.625816 L -74.000314,40.627145 L -74.002515,40.628474 L -74.002228,40.628751 L -74.00193,40.629033 L -74.003062,40.629715 L -74.003686,40.630092 L -74.004137,40.630364 L -74.006339,40.631694 L -74.007023,40.63211 L -74.006807,40.63225 L -74.006619,40.632375 L -74.006306,40.632584 L -74.005565,40.633083 L -74.007356,40.634164 L -74.006751,40.634745 L -74.006418,40.635065 L -74.006169,40.635304 L -74.005586,40.635866 L -74.005003,40.636425 L -74.00442,40.636985 L -74.004111,40.637283 L -74.003838,40.637546 L -74.003253,40.638104 L -74.002672,40.638667 L -74.002369,40.638958 L -74.002091,40.639225 L -74.001508,40.639785 L -74.000925,40.640346 L -74.000661,40.640599 L -74.000341,40.640905 L -73.999757,40.641467 L -73.999176,40.642025 L -73.996974,40.640694 L -73.99551,40.63981 L -73.994795,40.640288 L -73.994331,40.6406 L -73.994077,40.64077 L -73.993363,40.641248 L -73.992645,40.641728 L -73.991928,40.642205 L -73.991213,40.642686 L -73.990496,40.643164 L -73.989779,40.643645 L -73.989059,40.644119 L -73.98835,40.644562 L -73.987499,40.644046 L -73.986731,40.643574 L -73.985896,40.643068 L -73.985095,40.642573 L -73.984587,40.642262 L -73.984303,40.642085 L -73.983316,40.641479 L -73.982994,40.641325 L -73.982445,40.641539 L -73.982043,40.641708 L -73.981232,40.642045 L -73.980421,40.642385 L -73.980074,40.64054 L -73.980007,40.640209 L -73.97991,40.639686 L -73.979874,40.639518 L -73.979677,40.638465 L -73.979554,40.637819 L -73.979476,40.637431 L -73.979386,40.636932 L -73.979286,40.636414 L -73.979112,40.63544 L -73.978022,40.635553 L -73.976889,40.635675 L -73.976637,40.634354 L -73.976551,40.633904 L -73.976433,40.633289 L -73.976049,40.631276 z\" /></g></svg>"
      ],
      "text/plain": [
       "<shapely.geometry.polygon.Polygon at 0x273de7c3c50>"
      ]
     },
     "execution_count": 78,
     "metadata": {},
     "output_type": "execute_result"
    }
   ],
   "source": [
    "poly_boroughpark"
   ]
  },
  {
   "cell_type": "code",
   "execution_count": 84,
   "metadata": {},
   "outputs": [
    {
     "data": {
      "text/plain": [
       "False"
      ]
     },
     "execution_count": 84,
     "metadata": {},
     "output_type": "execute_result"
    }
   ],
   "source": [
    "p1.within(poly_boroughpark)"
   ]
  },
  {
   "cell_type": "code",
   "execution_count": 98,
   "metadata": {},
   "outputs": [
    {
     "name": "stdout",
     "output_type": "stream",
     "text": [
      "Borough Park , 1\n",
      "Murray Hill , 2\n",
      "East Elmhurst , 3\n",
      "Hollis , 4\n",
      "Manhattanville , 5\n",
      "Springfield Gardens North , 6\n",
      "Homecrest , 7\n",
      "Erasmus , 8\n",
      "Longwood , 9\n",
      "Westchester-Unionport , 10\n",
      "Fresh Meadows-Utopia , 11\n",
      "Clinton Hill , 12\n",
      "St. Albans , 13\n",
      "Corona , 14\n",
      "Pelham Bay-Country Club-City Island , 15\n",
      "Cambria Heights , 16\n",
      "Jamaica Estates-Holliswood , 17\n",
      "Madison , 18\n",
      "Kensington-Ocean Parkway , 19\n",
      "Jamaica , 20\n",
      "South Jamaica , 21\n",
      "Midwood , 22\n",
      "Gravesend , 23\n",
      "Crown Heights South , 24\n",
      "Bensonhurst East , 25\n",
      "Williamsburg , 26\n",
      "Bedford , 27\n",
      "Stuyvesant Heights , 28\n",
      "Ocean Hill , 29\n",
      "Crown Heights North , 30\n",
      "Rugby-Remsen Village , 31\n",
      "Allerton-Pelham Gardens , 32\n",
      "Starrett City , 33\n",
      "East Flatbush-Farragut , 34\n",
      "Bushwick South , 35\n",
      "Bushwick North , 36\n",
      "Ridgewood , 37\n",
      "Ocean Parkway South , 38\n",
      "Fort Greene , 39\n",
      "West Brighton , 40\n",
      "Lenox Hill-Roosevelt Island , 41\n",
      "Queensbridge-Ravenswood-Long Island City , 42\n",
      "West Farms-Bronx River , 43\n",
      "Parkchester , 44\n",
      "Soundview-Bruckner , 45\n",
      "Dyker Heights , 46\n",
      "Glendale , 47\n",
      "Van Cortlandt Village , 48\n",
      "Rego Park , 49\n",
      "Pomonok-Flushing Heights-Hillcrest , 50\n",
      "park-cemetery-etc-Staten Island , 51\n",
      "Clinton , 52\n",
      "North Corona , 53\n",
      "Queens Village , 54\n",
      "Bellerose , 55\n",
      "Middle Village , 56\n",
      "Elmhurst , 57\n",
      "Laurelton , 58\n",
      "Woodlawn-Wakefield , 59\n",
      "Ft. Totten-Bay Terrace-Clearview , 60\n",
      "Whitestone , 61\n",
      "Prospect Heights , 62\n",
      "Bronxdale , 63\n",
      "East New York (Pennsylvania Ave) , 64\n",
      "South Ozone Park , 65\n",
      "Bath Beach , 66\n",
      "Bensonhurst West , 67\n",
      "Baisley Park , 68\n",
      "Maspeth , 69\n",
      "Kingsbridge Heights , 70\n",
      "Elmhurst-Maspeth , 71\n",
      "College Point , 72\n",
      "Mariner's Harbor-Arlington-Port Ivory-Graniteville , 73\n",
      "Arden Heights , 74\n",
      "Kew Gardens Hills , 75\n",
      "Woodside , 76\n",
      "Rikers Island , 77\n",
      "Williamsbridge-Olinville , 78\n",
      "Port Richmond , 79\n",
      "North Side-South Side , 80\n",
      "Brownsville , 81\n",
      "Sunset Park East , 82\n",
      "Westerleigh , 83\n",
      "Schuylerville-Throgs Neck-Edgewater Park , 84\n",
      "Richmond Hill , 85\n",
      "Flushing , 86\n",
      "Queensboro Hill , 87\n",
      "Chinatown , 88\n",
      "Forest Hills , 89\n",
      "Washington Heights North , 90\n",
      "Annadale-Huguenot-Prince's Bay-Eltingville , 91\n",
      "Battery Park City-Lower Manhattan , 92\n",
      "Lincoln Square , 93\n",
      "Midtown-Midtown South , 94\n",
      "Upper East Side-Carnegie Hill , 95\n",
      "Woodhaven , 96\n",
      "Ozone Park , 97\n",
      "Great Kills , 98\n",
      "Prospect Lefferts Gardens-Wingate , 99\n",
      "Windsor Terrace , 100\n",
      "Highbridge , 101\n",
      "Central Harlem South , 102\n",
      "Seagate-Coney Island , 103\n",
      "West New Brighton-New Brighton-St. George , 104\n",
      "New Brighton-Silver Lake , 105\n",
      "Lindenwood-Howard Beach , 106\n",
      "North Riverdale-Fieldston-Riverdale , 107\n",
      "Spuyten Duyvil-Kingsbridge , 108\n",
      "Hunts Point , 109\n",
      "Canarsie , 110\n",
      "Flatbush , 111\n",
      "Flatlands , 112\n",
      "Sunset Park West , 113\n",
      "Bedford Park-Fordham North , 114\n",
      "Glen Oaks-Floral Park-New Hyde Park , 115\n",
      "Douglas Manor-Douglaston-Little Neck , 116\n",
      "Briarwood-Jamaica Hills , 117\n",
      "Fordham South , 118\n",
      "Kew Gardens , 119\n",
      "Soundview-Castle Hill-Clason Point-Harding Park , 120\n",
      "Jackson Heights , 121\n",
      "Carroll Gardens-Columbia Street-Red Hook , 122\n",
      "Park Slope-Gowanus , 123\n",
      "Rossville-Woodrow , 124\n",
      "Murray Hill-Kips Bay , 125\n",
      "Morningside Heights , 126\n",
      "Charleston-Richmond Valley-Tottenville , 127\n",
      "Central Harlem North-Polo Grounds , 128\n",
      "East New York , 129\n",
      "Morrisania-Melrose , 130\n",
      "Cypress Hills-City Line , 131\n",
      "Yorkville , 132\n",
      "Norwood , 133\n",
      "Auburndale , 134\n",
      "East Flushing , 135\n",
      "Hamilton Heights , 136\n",
      "Washington Heights South , 137\n",
      "Mount Hope , 138\n",
      "Bay Ridge , 139\n",
      "Melrose South-Mott Haven North , 140\n",
      "Mott Haven-Port Morris , 141\n",
      "Brooklyn Heights-Cobble Hill , 142\n",
      "Lower East Side , 143\n",
      "Claremont-Bathgate , 144\n",
      "Crotona Park East , 145\n",
      "Gramercy , 146\n",
      "Marble Hill-Inwood , 147\n",
      "East Village , 148\n",
      "SoHo-TriBeCa-Civic Center-Little Italy , 149\n",
      "University Heights-Morris Heights , 150\n",
      "Hudson Yards-Chelsea-Flatiron-Union Square , 151\n",
      "West Village , 152\n",
      "Upper West Side , 153\n",
      "park-cemetery-etc-Manhattan , 154\n",
      "Eastchester-Edenwald-Baychester , 155\n",
      "Co-op City , 156\n",
      "East Harlem South , 157\n",
      "East Tremont , 158\n",
      "park-cemetery-etc-Queens , 159\n",
      "Sheepshead Bay-Gerritsen Beach-Manhattan Beach , 160\n",
      "East Harlem North , 161\n",
      "Belmont , 162\n",
      "Brighton Beach , 163\n",
      "Breezy Point-Belle Harbor-Rockaway Park-Broad Channel , 164\n",
      "Hammels-Arverne-Edgemere , 165\n",
      "Grymes Hill-Clifton-Fox Hills , 166\n",
      "Stapleton-Rosebank , 167\n",
      "Springfield Gardens South-Brookville , 168\n",
      "Rosedale , 169\n",
      "Oakwood-Oakwood Beach , 170\n",
      "New Dorp-Midland Beach , 171\n",
      "East Williamsburg , 172\n",
      "Oakland Gardens , 173\n",
      "Grasmere-Arrochar-Ft. Wadsworth , 174\n",
      "Astoria , 175\n",
      "Old Town-Dongan Hills-South Beach , 176\n",
      "Far Rockaway-Bayswater , 177\n",
      "Bayside-Bayside Hills , 178\n",
      "Old Astoria , 179\n",
      "Steinway , 180\n",
      "Airport , 181\n",
      "DUMBO-Vinegar Hill-Downtown Brooklyn-Boerum Hill , 182\n",
      "Pelham Parkway , 183\n",
      "park-cemetery-etc-Bronx , 184\n",
      "Turtle Bay-East Midtown , 185\n",
      "Hunters Point-Sunnyside-West Maspeth , 186\n",
      "Georgetown-Marine Park-Bergen Beach-Mill Basin , 187\n",
      "park-cemetery-etc-Brooklyn , 188\n",
      "New Springville-Bloomfield-Travis , 189\n",
      "Todt Hill-Emerson Hill-Heartland Village-Lighthouse Hill , 190\n",
      "Greenpoint , 191\n",
      "Stuyvesant Town-Cooper Village , 192\n",
      "Van Nest-Morris Park-Westchester Square , 193\n",
      "East Concourse-Concourse Village , 194\n",
      "West Concourse , 195\n"
     ]
    }
   ],
   "source": [
    "count = 0\n",
    "for feature in gj['features']:\n",
    "    count += 1\n",
    "#     print (feature['geometry']['type'])\n",
    "    print( feature[\"properties\"][\"ntaname\"] , ',' , count)"
   ]
  },
  {
   "cell_type": "code",
   "execution_count": 90,
   "metadata": {},
   "outputs": [
    {
     "name": "stdout",
     "output_type": "stream",
     "text": [
      "195\n"
     ]
    }
   ],
   "source": [
    "print(count)"
   ]
  },
  {
   "cell_type": "code",
   "execution_count": 91,
   "metadata": {},
   "outputs": [],
   "source": [
    "station_info = anna2"
   ]
  },
  {
   "cell_type": "code",
   "execution_count": 103,
   "metadata": {},
   "outputs": [
    {
     "data": {
      "text/html": [
       "<div>\n",
       "<style scoped>\n",
       "    .dataframe tbody tr th:only-of-type {\n",
       "        vertical-align: middle;\n",
       "    }\n",
       "\n",
       "    .dataframe tbody tr th {\n",
       "        vertical-align: top;\n",
       "    }\n",
       "\n",
       "    .dataframe thead th {\n",
       "        text-align: right;\n",
       "    }\n",
       "</style>\n",
       "<table border=\"1\" class=\"dataframe\">\n",
       "  <thead>\n",
       "    <tr style=\"text-align: right;\">\n",
       "      <th></th>\n",
       "      <th>Start Station Name</th>\n",
       "      <th>Start Station Latitude</th>\n",
       "      <th>Start Station Longitude</th>\n",
       "      <th>station popularity</th>\n",
       "    </tr>\n",
       "  </thead>\n",
       "  <tbody>\n",
       "    <tr>\n",
       "      <th>8</th>\n",
       "      <td>1 Pl &amp; Clinton St</td>\n",
       "      <td>40.680959</td>\n",
       "      <td>-73.999057</td>\n",
       "      <td>555</td>\n",
       "    </tr>\n",
       "  </tbody>\n",
       "</table>\n",
       "</div>"
      ],
      "text/plain": [
       "  Start Station Name  Start Station Latitude  Start Station Longitude  \\\n",
       "8  1 Pl & Clinton St               40.680959               -73.999057   \n",
       "\n",
       "   station popularity  \n",
       "8                 555  "
      ]
     },
     "execution_count": 103,
     "metadata": {},
     "output_type": "execute_result"
    }
   ],
   "source": [
    "station_info.loc[station_info[\"Start Station Name\"] == \"1 Pl & Clinton St\"]"
   ]
  },
  {
   "cell_type": "code",
   "execution_count": 112,
   "metadata": {},
   "outputs": [
    {
     "data": {
      "text/plain": [
       "'Carroll Gardens-Columbia Street-Red Hook'"
      ]
     },
     "execution_count": 112,
     "metadata": {},
     "output_type": "execute_result"
    }
   ],
   "source": [
    "gj[\"features\"][121][\"properties\"][\"ntaname\"]"
   ]
  },
  {
   "cell_type": "code",
   "execution_count": 133,
   "metadata": {},
   "outputs": [],
   "source": [
    "poly_carrolgardens = Polygon(gj[\"features\"][121][\"geometry\"][\"coordinates\"][0][0])"
   ]
  },
  {
   "cell_type": "code",
   "execution_count": 134,
   "metadata": {},
   "outputs": [
    {
     "data": {
      "image/svg+xml": [
       "<svg xmlns=\"http://www.w3.org/2000/svg\" xmlns:xlink=\"http://www.w3.org/1999/xlink\" width=\"100.0\" height=\"100.0\" viewBox=\"-74.02126112 40.66325888 0.03534624000000974 0.03045724000000405\" preserveAspectRatio=\"xMinYMin meet\"><g transform=\"matrix(1,0,0,-1,0,81.356975)\"><path fill-rule=\"evenodd\" fill=\"#66cc99\" stroke=\"#555555\" stroke-width=\"0.0007069248000001948\" opacity=\"0.6\" d=\"M -73.992364,40.68969 L -73.992623,40.689161 L -73.992686,40.689033 L -73.992929,40.688519 L -73.993005,40.688365 L -73.993268,40.687824 L -73.993338,40.687679 L -73.993604,40.687127 L -73.993787,40.686756 L -73.993929,40.686453 L -73.994091,40.686113 L -73.994254,40.685778 L -73.994408,40.685452 L -73.994578,40.6851 L -73.994901,40.68443 L -73.992623,40.683544 L -73.990424,40.682694 L -73.988272,40.681862 L -73.987224,40.681447 L -73.987651,40.680819 L -73.98808,40.680172 L -73.988505,40.679537 L -73.988937,40.678904 L -73.989317,40.678358 L -73.989318,40.678254 L -73.989409,40.677455 L -73.989866,40.676827 L -73.990367,40.676218 L -73.990699,40.675807 L -73.992566,40.676106 L -73.992799,40.676132 L -73.992809,40.676149 L -73.993124,40.676179 L -73.993178,40.676162 L -73.993334,40.676176 L -73.993491,40.676183 L -73.993648,40.676183 L -73.993805,40.676177 L -73.993961,40.676163 L -73.994083,40.676184 L -73.994207,40.676156 L -73.994329,40.676124 L -73.99445,40.67609 L -73.994579,40.67605 L -73.994706,40.676005 L -73.994829,40.675955 L -73.994949,40.6759 L -73.995065,40.67584 L -73.995203,40.67573 L -73.995372,40.675597 L -73.995627,40.675326 L -73.995962,40.674968 L -73.99666,40.674143 L -73.996967,40.673784 L -73.997177,40.673528 L -73.997451,40.673195 L -73.998057,40.67247 L -73.998128,40.672441 L -73.998471,40.672059 L -73.998551,40.671926 L -73.998619,40.67183 L -73.998681,40.671739 L -73.998769,40.671602 L -73.998926,40.671415 L -73.999311,40.670773 L -73.999621,40.670127 L -73.999628,40.670113 L -73.999911,40.669499 L -74.000303,40.668717 L -74.001057,40.668946 L -74.001415,40.668359 L -74.002215,40.668579 L -74.002895,40.667348 L -74.003191,40.667263 L -74.003695,40.667428 L -74.00363,40.667568 L -74.003988,40.667666 L -74.004403,40.667779 L -74.005101,40.667975 L -74.005102,40.667976 L -74.00547,40.667951 L -74.005527,40.667899 L -74.005864,40.667994 L -74.005972,40.667882 L -74.006002,40.66789 L -74.006255,40.667338 L -74.006225,40.667336 L -74.006771,40.666189 L -74.006831,40.666209 L -74.006867,40.666129 L -74.006861,40.666126 L -74.00685,40.666121 L -74.006841,40.666114 L -74.006834,40.666106 L -74.006828,40.666097 L -74.006825,40.666088 L -74.006824,40.666078 L -74.006824,40.666068 L -74.006827,40.666059 L -74.006832,40.66605 L -74.006839,40.666041 L -74.006848,40.666034 L -74.006858,40.666028 L -74.006869,40.666024 L -74.006882,40.666021 L -74.006894,40.666019 L -74.006907,40.66602 L -74.00692,40.666021 L -74.006932,40.666025 L -74.006943,40.66603 L -74.006952,40.666036 L -74.006961,40.666044 L -74.006967,40.666052 L -74.006972,40.666061 L -74.006974,40.666071 L -74.006974,40.666081 L -74.006972,40.66609 L -74.006968,40.6661 L -74.006962,40.666108 L -74.006954,40.666116 L -74.006944,40.666122 L -74.006934,40.666128 L -74.006922,40.666131 L -74.006909,40.666133 L -74.006897,40.666134 L -74.006896,40.666134 L -74.006881,40.666132 L -74.00687,40.666159 L -74.006845,40.666212 L -74.006896,40.666223 L -74.00675,40.666538 L -74.006306,40.667496 L -74.006257,40.667596 L -74.006046,40.668053 L -74.005319,40.669554 L -74.004754,40.670721 L -74.005439,40.670921 L -74.006029,40.669785 L -74.006616,40.668623 L -74.006803,40.668591 L -74.007548,40.667052 L -74.007797,40.66716 L -74.007087,40.668591 L -74.009854,40.668524 L -74.01154,40.665086 L -74.015749,40.664568 L -74.016903,40.664847 L -74.017444,40.665268 L -74.017887,40.66585 L -74.018576,40.670392 L -74.018763,40.671076 L -74.019339,40.671625 L -74.018883,40.671602 L -74.01751,40.671035 L -74.016688,40.665437 L -74.016575,40.665039 L -74.016487,40.664931 L -74.016026,40.664863 L -74.015937,40.665471 L -74.01228,40.665732 L -74.010877,40.668602 L -74.010357,40.668643 L -74.010338,40.669078 L -74.01056,40.669191 L -74.01091,40.66919 L -74.010873,40.66971 L -74.011543,40.669784 L -74.011622,40.670114 L -74.011514,40.670407 L -74.011625,40.670581 L -74.014062,40.669706 L -74.014249,40.669729 L -74.014242,40.669808 L -74.011754,40.670658 L -74.011772,40.670703 L -74.011797,40.670746 L -74.011829,40.670787 L -74.011868,40.670824 L -74.011912,40.670858 L -74.011963,40.670888 L -74.012019,40.670914 L -74.012078,40.670934 L -74.012141,40.670948 L -74.012205,40.670955 L -74.01227,40.670957 L -74.012335,40.670952 L -74.012398,40.670942 L -74.012459,40.670925 L -74.012517,40.670903 L -74.012571,40.670875 L -74.01262,40.670842 L -74.013098,40.671055 L -74.013552,40.671257 L -74.013598,40.671227 L -74.01365,40.671203 L -74.013706,40.671185 L -74.013763,40.671174 L -74.013821,40.671169 L -74.013879,40.671171 L -74.013936,40.671179 L -74.013991,40.671194 L -74.014274,40.671379 L -74.01508,40.670686 L -74.0152,40.670754 L -74.014369,40.671455 L -74.014123,40.671669 L -74.013873,40.671881 L -74.014233,40.67213 L -74.015596,40.67097 L -74.015686,40.671039 L -74.014287,40.672241 L -74.014229,40.672207 L -74.012976,40.673328 L -74.013364,40.673592 L -74.013951,40.673112 L -74.015119,40.672157 L -74.016321,40.672908 L -74.014579,40.674414 L -74.014964,40.674678 L -74.01544,40.674273 L -74.016708,40.673194 L -74.018168,40.671939 L -74.018801,40.672251 L -74.017271,40.673609 L -74.017293,40.673628 L -74.017752,40.674048 L -74.017798,40.674016 L -74.017815,40.67403 L -74.017893,40.673965 L -74.01788,40.673957 L -74.017944,40.673883 L -74.017981,40.6739 L -74.018011,40.673913 L -74.017958,40.673987 L -74.017923,40.673975 L -74.017836,40.67404 L -74.017857,40.674058 L -74.017802,40.674095 L -74.018115,40.674343 L -74.018136,40.674359 L -74.018154,40.674377 L -74.018166,40.674397 L -74.018175,40.674419 L -74.018178,40.674442 L -74.018176,40.674464 L -74.018045,40.674768 L -74.018024,40.674853 L -74.01803,40.674924 L -74.018036,40.674959 L -74.018009,40.674994 L -74.018017,40.675009 L -74.017924,40.675076 L -74.017986,40.675125 L -74.017834,40.675258 L -74.01815,40.675468 L -74.018195,40.67544 L -74.01823,40.675462 L -74.018298,40.675459 L -74.018412,40.675365 L -74.01832,40.675303 L -74.018263,40.67535 L -74.018171,40.675291 L -74.018387,40.675097 L -74.018475,40.675153 L -74.018423,40.675208 L -74.018522,40.675269 L -74.018757,40.675056 L -74.018767,40.67505 L -74.01878,40.675046 L -74.018792,40.675043 L -74.018806,40.675042 L -74.018819,40.675042 L -74.018833,40.675044 L -74.018845,40.675048 L -74.018856,40.675054 L -74.018866,40.675061 L -74.018875,40.675069 L -74.018881,40.675078 L -74.018885,40.675088 L -74.018887,40.675098 L -74.018887,40.675108 L -74.018884,40.675118 L -74.01841,40.675519 L -74.018418,40.675538 L -74.01843,40.675556 L -74.018444,40.675573 L -74.018462,40.675588 L -74.018482,40.6756 L -74.018537,40.675769 L -74.018535,40.675787 L -74.018528,40.675805 L -74.018518,40.675822 L -74.018504,40.675837 L -74.018487,40.675851 L -74.018467,40.675861 L -74.018444,40.675869 L -74.018421,40.675874 L -74.018396,40.675875 L -74.018018,40.675884 L -74.017975,40.675948 L -74.017939,40.676014 L -74.017911,40.676082 L -74.017891,40.676152 L -74.017878,40.676223 L -74.017874,40.676294 L -74.017878,40.676365 L -74.017889,40.676436 L -74.017909,40.676506 L -74.017973,40.676513 L -74.017977,40.676568 L -74.019109,40.676544 L -74.019121,40.676616 L -74.019769,40.676613 L -74.019952,40.677103 L -74.019083,40.67714 L -74.019142,40.677723 L -74.019189,40.677741 L -74.019191,40.677743 L -74.019219,40.677777 L -74.019177,40.677827 L -74.019088,40.677831 L -74.019083,40.677831 L -74.019065,40.67785 L -74.019041,40.677877 L -74.019034,40.677877 L -74.01843,40.677908 L -74.01843,40.677928 L -74.018411,40.678407 L -74.018595,40.678398 L -74.018625,40.67837 L -74.018628,40.67837 L -74.01863,40.67837 L -74.01865,40.678385 L -74.018662,40.678394 L -74.018954,40.678381 L -74.018983,40.678352 L -74.01899,40.678353 L -74.019021,40.678377 L -74.019472,40.678358 L -74.019539,40.678302 L -74.019662,40.678386 L -74.019663,40.678388 L -74.019552,40.678482 L -74.019518,40.678459 L -74.019429,40.6784 L -74.019426,40.6784 L -74.019365,40.678402 L -74.019279,40.678404 L -74.019277,40.678407 L -74.019275,40.678408 L -74.019247,40.678432 L -74.019242,40.678432 L -74.019207,40.678408 L -74.019121,40.678413 L -74.019064,40.678416 L -74.019033,40.678443 L -74.01903,40.678443 L -74.019026,40.678442 L -74.018994,40.67842 L -74.01899,40.67842 L -74.018987,40.67842 L -74.018851,40.678423 L -74.018848,40.678426 L -74.018824,40.678445 L -74.018816,40.678452 L -74.018812,40.678452 L -74.01878,40.67843 L -74.018775,40.67843 L -74.018718,40.678432 L -74.018633,40.678434 L -74.018632,40.678435 L -74.018602,40.678461 L -74.0186,40.678461 L -74.018595,40.678461 L -74.018565,40.67844 L -74.018511,40.678441 L -74.018405,40.678442 L -74.018418,40.67855 L -74.018253,40.678553 L -74.018283,40.678728 L -74.018322,40.678722 L -74.018383,40.678745 L -74.018579,40.678983 L -74.01944,40.678933 L -74.019456,40.678932 L -74.019473,40.678934 L -74.019489,40.678937 L -74.019504,40.678942 L -74.019518,40.678949 L -74.01953,40.678958 L -74.01954,40.678968 L -74.019548,40.678979 L -74.019553,40.678992 L -74.019556,40.679004 L -74.019556,40.679017 L -74.019553,40.679029 L -74.019281,40.679648 L -74.019068,40.679761 L -74.018928,40.679844 L -74.018991,40.679905 L -74.017725,40.680662 L -74.017647,40.680602 L -74.01757,40.680651 L -74.017469,40.680615 L -74.016848,40.680986 L -74.016788,40.681022 L -74.015201,40.681979 L -74.015321,40.682111 L -74.015083,40.682254 L -74.014868,40.682383 L -74.01282,40.683622 L -74.012624,40.683469 L -74.012123,40.682962 L -74.012135,40.682906 L -74.014105,40.681713 L -74.013609,40.681222 L -74.013874,40.68101 L -74.013742,40.680918 L -74.013018,40.680412 L -74.011863,40.681398 L -74.010609,40.682469 L -74.009671,40.683269 L -74.010086,40.683655 L -74.010773,40.684359 L -74.011783,40.68376 L -74.011933,40.683888 L -74.010928,40.684491 L -74.008601,40.68591 L -74.008513,40.685963 L -74.008425,40.686016 L -74.008164,40.686175 L -74.007982,40.686276 L -74.007934,40.686282 L -74.007887,40.686246 L -74.007827,40.686241 L -74.007768,40.686249 L -74.007717,40.686264 L -74.007545,40.686318 L -74.00702,40.686526 L -74.006441,40.686288 L -74.005882,40.686196 L -74.005667,40.686698 L -74.00563,40.686784 L -74.005004,40.687606 L -74.004593,40.688215 L -74.00382,40.68893 L -74.003409,40.689613 L -74.002976,40.690427 L -74.001963,40.690136 L -74.001853,40.690388 L -74.000962,40.690129 L -74.000699,40.690612 L -74.001326,40.691463 L -74.001969,40.691843 L -74.001818,40.692222 L -74.001744,40.692407 L -74.0017,40.692383 L -74.001794,40.692185 L -74.000773,40.691896 L -74.000684,40.691898 L -74.000623,40.692041 L -74.00019,40.691896 L -73.999915,40.691767 L -73.999513,40.691651 L -73.999365,40.691613 L -73.999288,40.691594 L -73.999202,40.691572 L -73.999101,40.691537 L -73.998453,40.69137 L -73.99803,40.691254 L -73.997769,40.691195 L -73.996233,40.690758 L -73.994361,40.690239 L -73.992364,40.68969 z\" /></g></svg>"
      ],
      "text/plain": [
       "<shapely.geometry.polygon.Polygon at 0x273e613c7f0>"
      ]
     },
     "execution_count": 134,
     "metadata": {},
     "output_type": "execute_result"
    }
   ],
   "source": [
    "poly_carrolgardens"
   ]
  },
  {
   "cell_type": "code",
   "execution_count": 128,
   "metadata": {},
   "outputs": [],
   "source": [
    "p3 = Point(station_info.loc[station_info[\"Start Station Name\"] == \"1 Pl & Clinton St\"][\"Start Station Longitude\"], station_info.loc[station_info[\"Start Station Name\"] == \"1 Pl & Clinton St\"][\"Start Station Latitude\"])"
   ]
  },
  {
   "cell_type": "code",
   "execution_count": 129,
   "metadata": {},
   "outputs": [
    {
     "data": {
      "image/svg+xml": [
       "<svg xmlns=\"http://www.w3.org/2000/svg\" xmlns:xlink=\"http://www.w3.org/1999/xlink\" width=\"100.0\" height=\"100.0\" viewBox=\"-74.99905709 39.6809591 2.0 2.0\" preserveAspectRatio=\"xMinYMin meet\"><g transform=\"matrix(1,0,0,-1,0,81.3619182)\"><circle cx=\"-73.99905709\" cy=\"40.6809591\" r=\"0.06\" stroke=\"#555555\" stroke-width=\"0.02\" fill=\"#66cc99\" opacity=\"0.6\" /></g></svg>"
      ],
      "text/plain": [
       "<shapely.geometry.point.Point at 0x273c6643550>"
      ]
     },
     "execution_count": 129,
     "metadata": {},
     "output_type": "execute_result"
    }
   ],
   "source": [
    "p3"
   ]
  },
  {
   "cell_type": "code",
   "execution_count": 130,
   "metadata": {},
   "outputs": [
    {
     "name": "stdout",
     "output_type": "stream",
     "text": [
      "POINT (-73.99905708999999 40.6809591)\n"
     ]
    }
   ],
   "source": [
    "print(p3)"
   ]
  },
  {
   "cell_type": "code",
   "execution_count": 131,
   "metadata": {},
   "outputs": [
    {
     "data": {
      "text/plain": [
       "True"
      ]
     },
     "execution_count": 131,
     "metadata": {},
     "output_type": "execute_result"
    }
   ],
   "source": [
    "p3.within(poly_carrolgardens)"
   ]
  },
  {
   "cell_type": "code",
   "execution_count": 120,
   "metadata": {},
   "outputs": [
    {
     "data": {
      "text/plain": [
       "False"
      ]
     },
     "execution_count": 120,
     "metadata": {},
     "output_type": "execute_result"
    }
   ],
   "source": [
    "Point(40.6738454,-74.0136213).within(poly_carrolgardens)"
   ]
  },
  {
   "cell_type": "code",
   "execution_count": 122,
   "metadata": {},
   "outputs": [
    {
     "data": {
      "text/plain": [
       "False"
      ]
     },
     "execution_count": 122,
     "metadata": {},
     "output_type": "execute_result"
    }
   ],
   "source": [
    "poly_carrolgardens.contains(p2)"
   ]
  },
  {
   "cell_type": "code",
   "execution_count": 117,
   "metadata": {},
   "outputs": [],
   "source": [
    "p3= Point(40.677249, -74.006492)"
   ]
  },
  {
   "cell_type": "code",
   "execution_count": 118,
   "metadata": {},
   "outputs": [
    {
     "data": {
      "image/svg+xml": [
       "<svg xmlns=\"http://www.w3.org/2000/svg\" xmlns:xlink=\"http://www.w3.org/1999/xlink\" width=\"100.0\" height=\"100.0\" viewBox=\"39.677249 -75.006492 2.0 2.0\" preserveAspectRatio=\"xMinYMin meet\"><g transform=\"matrix(1,0,0,-1,0,-148.012984)\"><circle cx=\"40.677249\" cy=\"-74.006492\" r=\"0.06\" stroke=\"#555555\" stroke-width=\"0.02\" fill=\"#66cc99\" opacity=\"0.6\" /></g></svg>"
      ],
      "text/plain": [
       "<shapely.geometry.point.Point at 0x273e619cc50>"
      ]
     },
     "execution_count": 118,
     "metadata": {},
     "output_type": "execute_result"
    }
   ],
   "source": [
    "p3"
   ]
  },
  {
   "cell_type": "code",
   "execution_count": 121,
   "metadata": {},
   "outputs": [
    {
     "name": "stdout",
     "output_type": "stream",
     "text": [
      "POLYGON ((-73.99236399999999 40.68969, -73.99262299999999 40.689161, -73.99268600000001 40.689033, -73.992929 40.688519, -73.993005 40.688365, -73.993268 40.687824, -73.99333799999999 40.687679, -73.993604 40.687127, -73.993787 40.686756, -73.99392899999999 40.686453, -73.994091 40.686113, -73.994254 40.685778, -73.99440800000001 40.685452, -73.994578 40.6851, -73.994901 40.68443, -73.99262299999999 40.683544, -73.990424 40.682694, -73.98827199999999 40.681862, -73.987224 40.681447, -73.987651 40.680819, -73.98808 40.680172, -73.988505 40.679537, -73.98893700000001 40.678904, -73.989317 40.678358, -73.989318 40.678254, -73.98940899999999 40.677455, -73.98986600000001 40.676827, -73.99036700000001 40.676218, -73.99069900000001 40.675807, -73.992566 40.676106, -73.99279900000001 40.676132, -73.99280899999999 40.676149, -73.99312399999999 40.676179, -73.993178 40.676162, -73.993334 40.676176, -73.99349100000001 40.676183, -73.99364799999999 40.676183, -73.99380499999999 40.676177, -73.993961 40.676163, -73.994083 40.676184, -73.994207 40.676156, -73.99432899999999 40.676124, -73.99445 40.67609, -73.994579 40.67605, -73.99470599999999 40.676005, -73.994829 40.675955, -73.99494900000001 40.6759, -73.995065 40.67584, -73.995203 40.67573, -73.995372 40.675597, -73.995627 40.675326, -73.99596200000001 40.674968, -73.99666000000001 40.674143, -73.996967 40.673784, -73.99717699999999 40.673528, -73.997451 40.673195, -73.998057 40.67247, -73.99812799999999 40.672441, -73.998471 40.672059, -73.99855100000001 40.671926, -73.99861900000001 40.67183, -73.998681 40.671739, -73.998769 40.671602, -73.998926 40.671415, -73.99931100000001 40.670773, -73.999621 40.670127, -73.999628 40.670113, -73.999911 40.669499, -74.000303 40.668717, -74.001057 40.668946, -74.00141499999999 40.668359, -74.00221500000001 40.668579, -74.002895 40.667348, -74.003191 40.667263, -74.00369499999999 40.667428, -74.00363 40.667568, -74.00398800000001 40.667666, -74.004403 40.667779, -74.005101 40.667975, -74.00510199999999 40.667976, -74.00547 40.667951, -74.005527 40.667899, -74.005864 40.667994, -74.005972 40.667882, -74.006002 40.66789, -74.006255 40.667338, -74.006225 40.667336, -74.006771 40.666189, -74.00683100000001 40.666209, -74.006867 40.666129, -74.006861 40.666126, -74.00685 40.666121, -74.00684099999999 40.666114, -74.006834 40.666106, -74.006828 40.666097, -74.00682500000001 40.666088, -74.00682399999999 40.666078, -74.00682399999999 40.666068, -74.006827 40.666059, -74.006832 40.66605, -74.006839 40.666041, -74.00684800000001 40.666034, -74.00685799999999 40.666028, -74.00686899999999 40.666024, -74.006882 40.666021, -74.006894 40.666019, -74.006907 40.66602, -74.00691999999999 40.666021, -74.00693200000001 40.666025, -74.00694300000001 40.66603, -74.006952 40.666036, -74.006961 40.666044, -74.006967 40.666052, -74.006972 40.666061, -74.006974 40.666071, -74.006974 40.666081, -74.006972 40.66609, -74.006968 40.6661, -74.006962 40.666108, -74.00695399999999 40.666116, -74.006944 40.666122, -74.006934 40.666128, -74.006922 40.666131, -74.00690899999999 40.666133, -74.006897 40.666134, -74.006896 40.666134, -74.00688100000001 40.666132, -74.00687000000001 40.666159, -74.006845 40.666212, -74.006896 40.666223, -74.00675 40.666538, -74.006306 40.667496, -74.00625700000001 40.667596, -74.006046 40.668053, -74.005319 40.669554, -74.00475400000001 40.670721, -74.005439 40.670921, -74.006029 40.669785, -74.00661599999999 40.668623, -74.006803 40.668591, -74.007548 40.667052, -74.007797 40.66716, -74.007087 40.668591, -74.009854 40.668524, -74.01154 40.665086, -74.015749 40.664568, -74.016903 40.664847, -74.017444 40.665268, -74.017887 40.66585, -74.018576 40.670392, -74.01876300000001 40.671076, -74.019339 40.671625, -74.018883 40.671602, -74.01751 40.671035, -74.016688 40.665437, -74.016575 40.665039, -74.016487 40.664931, -74.016026 40.664863, -74.01593699999999 40.665471, -74.01228 40.665732, -74.01087699999999 40.668602, -74.010357 40.668643, -74.010338 40.669078, -74.01056 40.669191, -74.01091 40.66919, -74.010873 40.66971, -74.011543 40.669784, -74.011622 40.670114, -74.01151400000001 40.670407, -74.011625 40.670581, -74.014062 40.669706, -74.01424900000001 40.669729, -74.014242 40.669808, -74.011754 40.670658, -74.01177199999999 40.670703, -74.011797 40.670746, -74.01182900000001 40.670787, -74.01186800000001 40.670824, -74.011912 40.670858, -74.01196299999999 40.670888, -74.012019 40.670914, -74.012078 40.670934, -74.012141 40.670948, -74.01220499999999 40.670955, -74.01227 40.670957, -74.01233499999999 40.670952, -74.012398 40.670942, -74.01245900000001 40.670925, -74.012517 40.670903, -74.01257099999999 40.670875, -74.01262 40.670842, -74.013098 40.671055, -74.013552 40.671257, -74.013598 40.671227, -74.01365 40.671203, -74.013706 40.671185, -74.013763 40.671174, -74.01382099999999 40.671169, -74.013879 40.671171, -74.013936 40.671179, -74.013991 40.671194, -74.014274 40.671379, -74.01508 40.670686, -74.01519999999999 40.670754, -74.014369 40.671455, -74.014123 40.671669, -74.013873 40.671881, -74.014233 40.67213, -74.015596 40.67097, -74.015686 40.671039, -74.014287 40.672241, -74.014229 40.672207, -74.01297599999999 40.673328, -74.013364 40.673592, -74.01395100000001 40.673112, -74.015119 40.672157, -74.016321 40.672908, -74.014579 40.674414, -74.01496400000001 40.674678, -74.01544 40.674273, -74.01670799999999 40.673194, -74.018168 40.671939, -74.018801 40.672251, -74.01727099999999 40.673609, -74.017293 40.673628, -74.017752 40.674048, -74.017798 40.674016, -74.017815 40.67403, -74.017893 40.673965, -74.01788000000001 40.673957, -74.017944 40.673883, -74.01798100000001 40.6739, -74.018011 40.673913, -74.01795799999999 40.673987, -74.017923 40.673975, -74.017836 40.67404, -74.01785700000001 40.674058, -74.017802 40.674095, -74.01811499999999 40.674343, -74.018136 40.674359, -74.018154 40.674377, -74.01816599999999 40.674397, -74.018175 40.674419, -74.01817800000001 40.674442, -74.018176 40.674464, -74.018045 40.674768, -74.018024 40.674853, -74.01803 40.674924, -74.018036 40.674959, -74.01800900000001 40.674994, -74.018017 40.675009, -74.01792399999999 40.675076, -74.01798599999999 40.675125, -74.01783399999999 40.675258, -74.01815000000001 40.675468, -74.01819500000001 40.67544, -74.01823 40.675462, -74.018298 40.675459, -74.018412 40.675365, -74.01832 40.675303, -74.018263 40.67535, -74.018171 40.675291, -74.018387 40.675097, -74.018475 40.675153, -74.018423 40.675208, -74.018522 40.675269, -74.01875699999999 40.675056, -74.018767 40.67505, -74.01878000000001 40.675046, -74.018792 40.675043, -74.018806 40.675042, -74.01881899999999 40.675042, -74.018833 40.675044, -74.018845 40.675048, -74.018856 40.675054, -74.018866 40.675061, -74.01887499999999 40.675069, -74.01888099999999 40.675078, -74.018885 40.675088, -74.01888700000001 40.675098, -74.01888700000001 40.675108, -74.018884 40.675118, -74.01841 40.675519, -74.018418 40.675538, -74.01843 40.675556, -74.018444 40.675573, -74.018462 40.675588, -74.01848200000001 40.6756, -74.01853699999999 40.675769, -74.018535 40.675787, -74.018528 40.675805, -74.018518 40.675822, -74.01850399999999 40.675837, -74.01848699999999 40.675851, -74.018467 40.675861, -74.018444 40.675869, -74.018421 40.675874, -74.018396 40.675875, -74.018018 40.675884, -74.01797500000001 40.675948, -74.017939 40.676014, -74.017911 40.676082, -74.01789100000001 40.676152, -74.017878 40.676223, -74.01787400000001 40.676294, -74.017878 40.676365, -74.017889 40.676436, -74.017909 40.676506, -74.017973 40.676513, -74.017977 40.676568, -74.019109 40.676544, -74.019121 40.676616, -74.019769 40.676613, -74.019952 40.677103, -74.01908299999999 40.67714, -74.019142 40.677723, -74.019189 40.677741, -74.01919100000001 40.677743, -74.01921900000001 40.677777, -74.019177 40.677827, -74.019088 40.677831, -74.01908299999999 40.677831, -74.019065 40.67785, -74.019041 40.677877, -74.019034 40.677877, -74.01843 40.677908, -74.01843 40.677928, -74.018411 40.678407, -74.018595 40.678398, -74.018625 40.67837, -74.01862800000001 40.67837, -74.01863 40.67837, -74.01864999999999 40.678385, -74.01866200000001 40.678394, -74.01895399999999 40.678381, -74.01898300000001 40.678352, -74.01899 40.678353, -74.019021 40.678377, -74.01947199999999 40.678358, -74.01953899999999 40.678302, -74.019662 40.678386, -74.01966299999999 40.678388, -74.019552 40.678482, -74.01951800000001 40.678459, -74.019429 40.6784, -74.019426 40.6784, -74.01936499999999 40.678402, -74.019279 40.678404, -74.019277 40.678407, -74.01927499999999 40.678408, -74.01924699999999 40.678432, -74.01924200000001 40.678432, -74.01920699999999 40.678408, -74.019121 40.678413, -74.019064 40.678416, -74.01903299999999 40.678443, -74.01903 40.678443, -74.019026 40.678442, -74.01899400000001 40.67842, -74.01899 40.67842, -74.018987 40.67842, -74.018851 40.678423, -74.01884800000001 40.678426, -74.018824 40.678445, -74.018816 40.678452, -74.018812 40.678452, -74.01878000000001 40.67843, -74.01877500000001 40.67843, -74.01871800000001 40.678432, -74.01863299999999 40.678434, -74.018632 40.678435, -74.018602 40.678461, -74.01860000000001 40.678461, -74.018595 40.678461, -74.018565 40.67844, -74.018511 40.678441, -74.018405 40.678442, -74.018418 40.67855, -74.018253 40.678553, -74.018283 40.678728, -74.018322 40.678722, -74.018383 40.678745, -74.018579 40.678983, -74.01944 40.678933, -74.01945600000001 40.678932, -74.019473 40.678934, -74.01948899999999 40.678937, -74.019504 40.678942, -74.01951800000001 40.678949, -74.01953 40.678958, -74.01954000000001 40.678968, -74.019548 40.678979, -74.019553 40.678992, -74.01955599999999 40.679004, -74.01955599999999 40.679017, -74.019553 40.679029, -74.01928100000001 40.679648, -74.019068 40.679761, -74.018928 40.679844, -74.018991 40.679905, -74.017725 40.680662, -74.017647 40.680602, -74.01757000000001 40.680651, -74.01746900000001 40.680615, -74.016848 40.680986, -74.01678800000001 40.681022, -74.015201 40.681979, -74.015321 40.682111, -74.015083 40.682254, -74.01486800000001 40.682383, -74.01282 40.683622, -74.012624 40.683469, -74.012123 40.682962, -74.012135 40.682906, -74.014105 40.681713, -74.013609 40.681222, -74.013874 40.68101, -74.01374199999999 40.680918, -74.013018 40.680412, -74.01186300000001 40.681398, -74.010609 40.682469, -74.009671 40.683269, -74.010086 40.683655, -74.010773 40.684359, -74.01178299999999 40.68376, -74.011933 40.683888, -74.01092800000001 40.684491, -74.008601 40.68591, -74.00851299999999 40.685963, -74.008425 40.686016, -74.00816399999999 40.686175, -74.007982 40.686276, -74.00793400000001 40.686282, -74.007887 40.686246, -74.00782700000001 40.686241, -74.007768 40.686249, -74.007717 40.686264, -74.00754499999999 40.686318, -74.00702 40.686526, -74.006441 40.686288, -74.005882 40.686196, -74.005667 40.686698, -74.00563 40.686784, -74.005004 40.687606, -74.004593 40.688215, -74.00382 40.68893, -74.003409 40.689613, -74.002976 40.690427, -74.001963 40.690136, -74.001853 40.690388, -74.000962 40.690129, -74.000699 40.690612, -74.00132600000001 40.691463, -74.001969 40.691843, -74.001818 40.692222, -74.001744 40.692407, -74.0017 40.692383, -74.001794 40.692185, -74.000773 40.691896, -74.00068400000001 40.691898, -74.000623 40.692041, -74.00019 40.691896, -73.999915 40.691767, -73.99951299999999 40.691651, -73.999365 40.691613, -73.99928800000001 40.691594, -73.999202 40.691572, -73.999101 40.691537, -73.998453 40.69137, -73.99803 40.691254, -73.99776900000001 40.691195, -73.996233 40.690758, -73.994361 40.690239, -73.99236399999999 40.68969))\n"
     ]
    }
   ],
   "source": [
    "print(poly_carrolgardens)"
   ]
  },
  {
   "cell_type": "code",
   "execution_count": 140,
   "metadata": {},
   "outputs": [
    {
     "data": {
      "text/plain": [
       "<folium.features.GeoJson at 0x273e63a61d0>"
      ]
     },
     "execution_count": 140,
     "metadata": {},
     "output_type": "execute_result"
    }
   ],
   "source": [
    "folium.GeoJson(poly_carrolgardens).add_to(manmap)"
   ]
  },
  {
   "cell_type": "code",
   "execution_count": 141,
   "metadata": {},
   "outputs": [
    {
     "data": {
      "text/html": [
       "<div style=\"width:100%;\"><div style=\"position:relative;width:100%;height:0;padding-bottom:60%;\"><iframe src=\"data:text/html;charset=utf-8;base64,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\" style=\"position:absolute;width:100%;height:100%;left:0;top:0;border:none !important;\" allowfullscreen webkitallowfullscreen mozallowfullscreen></iframe></div></div>"
      ],
      "text/plain": [
       "<folium.folium.Map at 0x273e6183f28>"
      ]
     },
     "execution_count": 141,
     "metadata": {},
     "output_type": "execute_result"
    }
   ],
   "source": [
    "manmap"
   ]
  },
  {
   "cell_type": "code",
   "execution_count": null,
   "metadata": {},
   "outputs": [],
   "source": []
  }
 ],
 "metadata": {
  "kernelspec": {
   "display_name": "Python 3",
   "language": "python",
   "name": "python3"
  },
  "language_info": {
   "codemirror_mode": {
    "name": "ipython",
    "version": 3
   },
   "file_extension": ".py",
   "mimetype": "text/x-python",
   "name": "python",
   "nbconvert_exporter": "python",
   "pygments_lexer": "ipython3",
   "version": "3.7.3"
  }
 },
 "nbformat": 4,
 "nbformat_minor": 2
}
